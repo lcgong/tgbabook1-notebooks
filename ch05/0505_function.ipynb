{
 "cells": [
  {
   "cell_type": "markdown",
   "id": "6a9cc614-7171-47fd-affd-220773a7066c",
   "metadata": {},
   "source": [
    "## 函数"
   ]
  },
  {
   "cell_type": "code",
   "execution_count": null,
   "id": "0e994c6e-10dd-4e62-bb61-5e95e861a6e9",
   "metadata": {},
   "outputs": [],
   "source": []
  },
  {
   "cell_type": "code",
   "execution_count": 28,
   "id": "72987719-8e07-4085-9aa4-c83d4d1983db",
   "metadata": {},
   "outputs": [],
   "source": [
    "def calculate_growth_rate(old_value, new_value):\n",
    "    \n",
    "    growth_rate = (new_value - old_value) / old_value\n",
    "    \n",
    "    return growth_rate * 100\n"
   ]
  },
  {
   "cell_type": "code",
   "execution_count": 30,
   "id": "8a347d1c-d136-4e14-b385-2d0442c28827",
   "metadata": {},
   "outputs": [
    {
     "data": {
      "text/plain": [
       "50.0"
      ]
     },
     "execution_count": 30,
     "metadata": {},
     "output_type": "execute_result"
    }
   ],
   "source": [
    "calculate_growth_rate(10, 15)"
   ]
  },
  {
   "cell_type": "code",
   "execution_count": 32,
   "id": "848f9f47-d792-4fb4-9a5e-c8f281d2b0dc",
   "metadata": {},
   "outputs": [
    {
     "data": {
      "text/plain": [
       "-25.0"
      ]
     },
     "execution_count": 32,
     "metadata": {},
     "output_type": "execute_result"
    }
   ],
   "source": [
    "calculate_growth_rate(20, 15)"
   ]
  },
  {
   "cell_type": "code",
   "execution_count": null,
   "id": "36ce78da-5fc1-409a-88ff-3a15274a98d0",
   "metadata": {},
   "outputs": [],
   "source": []
  },
  {
   "cell_type": "code",
   "execution_count": 16,
   "id": "6819c021-7e4e-461e-a666-bdff08783e93",
   "metadata": {},
   "outputs": [],
   "source": [
    "def f(a, b, c):\n",
    "    print(f'a={a}, b={b}, c={c}')"
   ]
  },
  {
   "cell_type": "code",
   "execution_count": 18,
   "id": "312f900c-6402-4c28-9b11-3dddee9ed76e",
   "metadata": {},
   "outputs": [
    {
     "name": "stdout",
     "output_type": "stream",
     "text": [
      "a=10, b=20, c=30\n"
     ]
    }
   ],
   "source": [
    "f(10, 20, 30)"
   ]
  },
  {
   "cell_type": "code",
   "execution_count": 20,
   "id": "23c1671e-f44b-4f16-b59b-272b90f5fd12",
   "metadata": {},
   "outputs": [
    {
     "name": "stdout",
     "output_type": "stream",
     "text": [
      "a=10, b=20, c=30\n"
     ]
    }
   ],
   "source": [
    "f(a=10, b=20, c=30)"
   ]
  },
  {
   "cell_type": "code",
   "execution_count": 21,
   "id": "46658bf6-b73c-46b7-81f2-49f07e640ec0",
   "metadata": {},
   "outputs": [
    {
     "name": "stdout",
     "output_type": "stream",
     "text": [
      "a=10, b=20, c=30\n"
     ]
    }
   ],
   "source": [
    "f(c=30, a=10, b=20)"
   ]
  },
  {
   "cell_type": "code",
   "execution_count": 24,
   "id": "ac45e72a-d943-456e-8720-eff7ad6cdc6d",
   "metadata": {},
   "outputs": [
    {
     "name": "stdout",
     "output_type": "stream",
     "text": [
      "a=10, b=20, c=30\n"
     ]
    }
   ],
   "source": [
    "f(10, c=30, b=20)"
   ]
  },
  {
   "cell_type": "code",
   "execution_count": 25,
   "id": "abb514a1-509e-4275-9c9b-ad652750f7eb",
   "metadata": {},
   "outputs": [
    {
     "name": "stdout",
     "output_type": "stream",
     "text": [
      "a=10, b=20, c=30\n"
     ]
    }
   ],
   "source": [
    "f(10, 20, c=30)"
   ]
  },
  {
   "cell_type": "code",
   "execution_count": 26,
   "id": "a424b817-e93e-45d5-b33b-c8e639f37cb7",
   "metadata": {},
   "outputs": [
    {
     "ename": "SyntaxError",
     "evalue": "positional argument follows keyword argument (2955790422.py, line 1)",
     "output_type": "error",
     "traceback": [
      "\u001b[1;36m  Cell \u001b[1;32mIn[26], line 1\u001b[1;36m\u001b[0m\n\u001b[1;33m    f(a=10, b=20, 30)\u001b[0m\n\u001b[1;37m                    ^\u001b[0m\n\u001b[1;31mSyntaxError\u001b[0m\u001b[1;31m:\u001b[0m positional argument follows keyword argument\n"
     ]
    }
   ],
   "source": [
    "f(a=10, b=20, 30)"
   ]
  },
  {
   "cell_type": "code",
   "execution_count": 85,
   "id": "4a17cdb1-cf0d-414d-95ea-382125165568",
   "metadata": {},
   "outputs": [
    {
     "ename": "SyntaxError",
     "evalue": "positional argument follows keyword argument (1539846992.py, line 1)",
     "output_type": "error",
     "traceback": [
      "\u001b[1;36m  Cell \u001b[1;32mIn[85], line 1\u001b[1;36m\u001b[0m\n\u001b[1;33m    f(b=20, 10, 30)\u001b[0m\n\u001b[1;37m                  ^\u001b[0m\n\u001b[1;31mSyntaxError\u001b[0m\u001b[1;31m:\u001b[0m positional argument follows keyword argument\n"
     ]
    }
   ],
   "source": [
    "f(b=20, 10, 30)"
   ]
  },
  {
   "cell_type": "markdown",
   "id": "b0539a0c-d6f6-4ff4-ba3b-6ad038b0fa04",
   "metadata": {},
   "source": [
    "## 参数默认值"
   ]
  },
  {
   "cell_type": "code",
   "execution_count": 41,
   "id": "ea09fb0b-1655-4513-9892-3b2323a1b0b1",
   "metadata": {},
   "outputs": [
    {
     "name": "stdout",
     "output_type": "stream",
     "text": [
      "您好, 张三!\n"
     ]
    }
   ],
   "source": [
    "def greet(greeting, name):\n",
    "    print(f\"{greeting}, {name}!\")\n",
    "\n",
    "greet('您好', '张三')"
   ]
  },
  {
   "cell_type": "code",
   "execution_count": 40,
   "id": "d489d44c-c301-4178-b823-6a8659536afc",
   "metadata": {},
   "outputs": [
    {
     "name": "stdout",
     "output_type": "stream",
     "text": [
      "张三, 您好!\n"
     ]
    }
   ],
   "source": [
    "greet('您好', '张三')"
   ]
  },
  {
   "cell_type": "code",
   "execution_count": 44,
   "id": "069135a9-099e-4eaa-99ab-cd398b998b09",
   "metadata": {},
   "outputs": [],
   "source": [
    "def greet(name, greeting=\"你好\"):\n",
    "    print(f\"{greeting}, {name}!\")"
   ]
  },
  {
   "cell_type": "code",
   "execution_count": 45,
   "id": "a7edd0ca-4600-4a56-88b7-9bfa1bfe78f0",
   "metadata": {},
   "outputs": [
    {
     "name": "stdout",
     "output_type": "stream",
     "text": [
      "你好, 张三!\n"
     ]
    }
   ],
   "source": [
    "greet('张三')"
   ]
  },
  {
   "cell_type": "code",
   "execution_count": 49,
   "id": "9961daf4-2ca5-455f-b704-43a1a237c0e7",
   "metadata": {},
   "outputs": [
    {
     "name": "stdout",
     "output_type": "stream",
     "text": [
      "Hi, 张三!\n"
     ]
    }
   ],
   "source": [
    "greet('张三', 'Hi')"
   ]
  },
  {
   "cell_type": "code",
   "execution_count": 48,
   "id": "312556f9-b00d-4627-a07d-d2d83442b5f6",
   "metadata": {},
   "outputs": [
    {
     "name": "stdout",
     "output_type": "stream",
     "text": [
      "Hi, 张三!\n"
     ]
    }
   ],
   "source": [
    "greet('张三', greeting='Hi')"
   ]
  },
  {
   "cell_type": "markdown",
   "id": "8bd87949-b2e2-4b75-b14f-dd15d4e7d8d8",
   "metadata": {},
   "source": [
    "## 变量作用域"
   ]
  },
  {
   "cell_type": "code",
   "execution_count": 75,
   "id": "9da07f1b-dc85-4763-9bc9-aa6ba68742d1",
   "metadata": {},
   "outputs": [
    {
     "name": "stdout",
     "output_type": "stream",
     "text": [
      "A: x=10, y=20\n",
      "F: x=10, y=25, z=99\n",
      "B: x=10, y=20\n"
     ]
    }
   ],
   "source": [
    "x = 10\n",
    "y = 20\n",
    "\n",
    "def f(z):\n",
    "    y = 25\n",
    "    print(f'F: x={x}, y={y}, z={z}')\n",
    "\n",
    "print(f'A: x={x}, y={y}')\n",
    "f(99)\n",
    "print(f'B: x={x}, y={y}')"
   ]
  },
  {
   "cell_type": "code",
   "execution_count": null,
   "id": "319ce769-6b8f-4e42-8c0e-795e3715bb16",
   "metadata": {},
   "outputs": [],
   "source": []
  },
  {
   "cell_type": "code",
   "execution_count": 84,
   "id": "daeef7c0-d5a2-4889-9017-63621738c04f",
   "metadata": {},
   "outputs": [
    {
     "ename": "NameError",
     "evalue": "name 'abc' is not defined",
     "output_type": "error",
     "traceback": [
      "\u001b[1;31m---------------------------------------------------------------------------\u001b[0m",
      "\u001b[1;31mNameError\u001b[0m                                 Traceback (most recent call last)",
      "Cell \u001b[1;32mIn[84], line 4\u001b[0m\n\u001b[0;32m      1\u001b[0m \u001b[38;5;28;01mdef\u001b[39;00m \u001b[38;5;21mf2\u001b[39m():\n\u001b[0;32m      2\u001b[0m     abc\n\u001b[1;32m----> 4\u001b[0m \u001b[43mf2\u001b[49m\u001b[43m(\u001b[49m\u001b[43m)\u001b[49m\n",
      "Cell \u001b[1;32mIn[84], line 2\u001b[0m, in \u001b[0;36mf2\u001b[1;34m()\u001b[0m\n\u001b[0;32m      1\u001b[0m \u001b[38;5;28;01mdef\u001b[39;00m \u001b[38;5;21mf2\u001b[39m():\n\u001b[1;32m----> 2\u001b[0m     \u001b[43mabc\u001b[49m\n",
      "\u001b[1;31mNameError\u001b[0m: name 'abc' is not defined"
     ]
    }
   ],
   "source": [
    "def f2():\n",
    "    abc\n",
    "\n",
    "f2()"
   ]
  }
 ],
 "metadata": {
  "kernelspec": {
   "display_name": "Python 3 (ipykernel)",
   "language": "python",
   "name": "python3"
  },
  "language_info": {
   "codemirror_mode": {
    "name": "ipython",
    "version": 3
   },
   "file_extension": ".py",
   "mimetype": "text/x-python",
   "name": "python",
   "nbconvert_exporter": "python",
   "pygments_lexer": "ipython3",
   "version": "3.11.4"
  }
 },
 "nbformat": 4,
 "nbformat_minor": 5
}
