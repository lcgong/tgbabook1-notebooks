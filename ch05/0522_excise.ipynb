{
 "cells": [
  {
   "cell_type": "code",
   "execution_count": 5,
   "id": "df610c4a-94d1-42b8-8195-41555020c867",
   "metadata": {},
   "outputs": [
    {
     "name": "stdout",
     "output_type": "stream",
     "text": [
      "1x1=1   1x2=2   1x3=3   1x4=4   1x5=5   1x6=6   1x7=7   1x8=8   1x9=9   \n",
      "2x2=4   2x3=6   2x4=8   2x5=10  2x6=12  2x7=14  2x8=16  2x9=18  \n",
      "3x3=9   3x4=12  3x5=15  3x6=18  3x7=21  3x8=24  3x9=27  \n",
      "4x4=16  4x5=20  4x6=24  4x7=28  4x8=32  4x9=36  \n",
      "5x5=25  5x6=30  5x7=35  5x8=40  5x9=45  \n",
      "6x6=36  6x7=42  6x8=48  6x9=54  \n",
      "7x7=49  7x8=56  7x9=63  \n",
      "8x8=64  8x9=72  \n",
      "9x9=81  \n"
     ]
    }
   ],
   "source": [
    "for i in range(1, 10):\n",
    "    for j in range(i, 10):\n",
    "        print(f\"{i}x{j}={i*j:<2}\", end='  ')\n",
    "    print()"
   ]
  }
 ],
 "metadata": {
  "kernelspec": {
   "display_name": "Python 3 (ipykernel)",
   "language": "python",
   "name": "python3"
  },
  "language_info": {
   "codemirror_mode": {
    "name": "ipython",
    "version": 3
   },
   "file_extension": ".py",
   "mimetype": "text/x-python",
   "name": "python",
   "nbconvert_exporter": "python",
   "pygments_lexer": "ipython3",
   "version": "3.11.4"
  }
 },
 "nbformat": 4,
 "nbformat_minor": 5
}
