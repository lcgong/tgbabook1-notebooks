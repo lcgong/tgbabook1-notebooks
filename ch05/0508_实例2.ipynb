{
 "cells": [
  {
   "cell_type": "code",
   "execution_count": null,
   "id": "4acca4af-be7f-47fa-9597-b77841d1c775",
   "metadata": {},
   "outputs": [],
   "source": []
  },
  {
   "cell_type": "code",
   "execution_count": 2,
   "id": "4f837fac-9bcf-4a43-a875-1bf3b6f6d649",
   "metadata": {},
   "outputs": [],
   "source": [
    "data = \"\"\"\\\n",
    "姓名,年龄,成绩\n",
    "张三,18,85\n",
    "李四,20,72\n",
    "王五,19,90\n",
    "孙七,21,78\"\"\""
   ]
  },
  {
   "cell_type": "code",
   "execution_count": null,
   "id": "c9d6c469-8dc6-4bcd-86bc-24fbcb60b954",
   "metadata": {},
   "outputs": [],
   "source": []
  },
  {
   "cell_type": "code",
   "execution_count": 3,
   "id": "d691902e-7714-48f5-8537-ea4684a087d1",
   "metadata": {},
   "outputs": [
    {
     "data": {
      "text/plain": [
       "[{'姓名': '张三', '年龄': '18', '成绩': '85'},\n",
       " {'姓名': '李四', '年龄': '20', '成绩': '72'},\n",
       " {'姓名': '王五', '年龄': '19', '成绩': '90'},\n",
       " {'姓名': '孙七', '年龄': '21', '成绩': '78'}]"
      ]
     },
     "execution_count": 3,
     "metadata": {},
     "output_type": "execute_result"
    }
   ],
   "source": [
    "lines = data.split('\\n')\n",
    "colnames = lines[0].split(',')\n",
    "students = [dict(zip(colnames, line.split(','))) for line in lines[1:]]\n",
    "students"
   ]
  },
  {
   "cell_type": "code",
   "execution_count": 4,
   "id": "15651292-7ab9-4ee7-845f-b069fb91dc64",
   "metadata": {},
   "outputs": [
    {
     "data": {
      "text/plain": [
       "[{'姓名': '张三', '年龄': 18, '成绩': 85.0},\n",
       " {'姓名': '李四', '年龄': 20, '成绩': 72.0},\n",
       " {'姓名': '王五', '年龄': 19, '成绩': 90.0},\n",
       " {'姓名': '孙七', '年龄': 21, '成绩': 78.0}]"
      ]
     },
     "execution_count": 4,
     "metadata": {},
     "output_type": "execute_result"
    }
   ],
   "source": [
    "for r in students:\n",
    "    r['年龄'] = int(r['年龄'])\n",
    "    r['成绩'] = float(r['成绩'])\n",
    "\n",
    "students"
   ]
  },
  {
   "cell_type": "code",
   "execution_count": 5,
   "id": "ef7ad4a2-b963-43b0-b5cb-c79021f8220d",
   "metadata": {},
   "outputs": [
    {
     "data": {
      "text/plain": [
       "['姓名,年龄,成绩', '张三,18,85', '李四,20,72', '王五,19,90', '孙七,21,78']"
      ]
     },
     "execution_count": 5,
     "metadata": {},
     "output_type": "execute_result"
    }
   ],
   "source": [
    "lines = data.split('\\n')\n",
    "lines"
   ]
  },
  {
   "cell_type": "code",
   "execution_count": 6,
   "id": "9d83851a-c3cc-41ce-ab98-8c63e7603e13",
   "metadata": {},
   "outputs": [
    {
     "data": {
      "text/plain": [
       "['姓名', '年龄', '成绩']"
      ]
     },
     "execution_count": 6,
     "metadata": {},
     "output_type": "execute_result"
    }
   ],
   "source": [
    "colnames = lines[0].split(',')\n",
    "colnames"
   ]
  },
  {
   "cell_type": "code",
   "execution_count": 13,
   "id": "2ff64e66-ff1f-46b9-b818-745da3ae4e7f",
   "metadata": {},
   "outputs": [
    {
     "data": {
      "text/plain": [
       "[['张三', '18', '85'],\n",
       " ['李四', '20', '72'],\n",
       " ['王五', '19', '90'],\n",
       " ['孙七', '21', '78']]"
      ]
     },
     "execution_count": 13,
     "metadata": {},
     "output_type": "execute_result"
    }
   ],
   "source": [
    "[line.split(',') for line in lines[1:]]"
   ]
  },
  {
   "cell_type": "code",
   "execution_count": 8,
   "id": "3f2d9dbb-d8f9-4085-ab57-08cbf4081b51",
   "metadata": {},
   "outputs": [
    {
     "data": {
      "text/plain": [
       "[('姓名', '张三'), ('年龄', '18'), ('成绩', '85')]"
      ]
     },
     "execution_count": 8,
     "metadata": {},
     "output_type": "execute_result"
    }
   ],
   "source": [
    "list(zip(colnames, ['张三', '18', '85']))"
   ]
  },
  {
   "cell_type": "code",
   "execution_count": 10,
   "id": "ebff9d44-4b3a-44e8-b356-332a9addd5b2",
   "metadata": {},
   "outputs": [
    {
     "data": {
      "text/plain": [
       "{'姓名': '张三', '年龄': '18', '成绩': '85'}"
      ]
     },
     "execution_count": 10,
     "metadata": {},
     "output_type": "execute_result"
    }
   ],
   "source": [
    "{ k:v for k, v in zip(colnames, ['张三', '18', '85'])}"
   ]
  },
  {
   "cell_type": "code",
   "execution_count": null,
   "id": "3486b3b8-2934-4bad-acab-6eed7a7406f3",
   "metadata": {},
   "outputs": [],
   "source": []
  },
  {
   "cell_type": "code",
   "execution_count": 17,
   "id": "be086352-08aa-4d93-9faf-b6390b2f90c4",
   "metadata": {},
   "outputs": [
    {
     "data": {
      "text/plain": [
       "[{'姓名': '张三', '年龄': '18', '成绩': '85'},\n",
       " {'姓名': '李四', '年龄': '20', '成绩': '72'},\n",
       " {'姓名': '王五', '年龄': '19', '成绩': '90'},\n",
       " {'姓名': '孙七', '年龄': '21', '成绩': '78'}]"
      ]
     },
     "execution_count": 17,
     "metadata": {},
     "output_type": "execute_result"
    }
   ],
   "source": [
    "[ { k:v for k, v in zip(colnames, line.split(','))} \n",
    "  for line in lines[1:]]"
   ]
  },
  {
   "cell_type": "code",
   "execution_count": null,
   "id": "514eda3a-c723-4cd3-9202-e573ce8f09a9",
   "metadata": {},
   "outputs": [],
   "source": []
  },
  {
   "cell_type": "code",
   "execution_count": 19,
   "id": "55d4a2aa-8563-41e7-9c6f-8bbc964c7301",
   "metadata": {},
   "outputs": [
    {
     "data": {
      "text/plain": [
       "[{'姓名': '张三', '年龄': '18', '成绩': '85'},\n",
       " {'姓名': '李四', '年龄': '20', '成绩': '72'},\n",
       " {'姓名': '王五', '年龄': '19', '成绩': '90'},\n",
       " {'姓名': '孙七', '年龄': '21', '成绩': '78'}]"
      ]
     },
     "execution_count": 19,
     "metadata": {},
     "output_type": "execute_result"
    }
   ],
   "source": [
    "[dict(zip(colnames, line.split(','))) for line in lines[1:]]"
   ]
  },
  {
   "cell_type": "code",
   "execution_count": null,
   "id": "e9c83a40-37cf-47cd-aa27-3edf5c7a6f3d",
   "metadata": {},
   "outputs": [],
   "source": [
    "[ (line.split(',') for line in lines[1:]) ]"
   ]
  },
  {
   "cell_type": "code",
   "execution_count": 19,
   "id": "e7c240fd-99f4-4248-84e2-ec720c75d97a",
   "metadata": {},
   "outputs": [
    {
     "data": {
      "text/plain": [
       "[{'姓名': '张三', '年龄': 18, '成绩': 85},\n",
       " {'姓名': '李四', '年龄': 20, '成绩': 72},\n",
       " {'姓名': '王五', '年龄': 19, '成绩': 90},\n",
       " {'姓名': '孙七', '年龄': 21, '成绩': 78}]"
      ]
     },
     "execution_count": 19,
     "metadata": {},
     "output_type": "execute_result"
    }
   ],
   "source": [
    "[s for s in students if s['成绩'] >= 60]"
   ]
  },
  {
   "cell_type": "code",
   "execution_count": 20,
   "id": "4ae96a29-0986-4fb6-bc07-a273401eca98",
   "metadata": {},
   "outputs": [
    {
     "data": {
      "text/plain": [
       "{'孙七', '张三', '李四', '王五'}"
      ]
     },
     "execution_count": 20,
     "metadata": {},
     "output_type": "execute_result"
    }
   ],
   "source": [
    "{s['姓名'] for s in students if s['成绩'] >= 60}"
   ]
  }
 ],
 "metadata": {
  "kernelspec": {
   "display_name": "Python 3 (ipykernel)",
   "language": "python",
   "name": "python3"
  },
  "language_info": {
   "codemirror_mode": {
    "name": "ipython",
    "version": 3
   },
   "file_extension": ".py",
   "mimetype": "text/x-python",
   "name": "python",
   "nbconvert_exporter": "python",
   "pygments_lexer": "ipython3",
   "version": "3.11.4"
  }
 },
 "nbformat": 4,
 "nbformat_minor": 5
}
