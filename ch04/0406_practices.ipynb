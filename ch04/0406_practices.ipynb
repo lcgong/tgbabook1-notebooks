{
 "cells": [
  {
   "cell_type": "markdown",
   "id": "0960e213-1b3e-4936-8e0d-ccaecb464d84",
   "metadata": {},
   "source": [
    "## 使用列表实现队列"
   ]
  },
  {
   "cell_type": "code",
   "execution_count": 54,
   "id": "ced78aeb-1acc-4ef1-9bc6-4e72a515e07d",
   "metadata": {},
   "outputs": [],
   "source": [
    "queue = []"
   ]
  },
  {
   "cell_type": "code",
   "execution_count": 55,
   "id": "bc9496cc-b391-46c3-b31d-1a5bd90c5e9a",
   "metadata": {},
   "outputs": [
    {
     "data": {
      "text/plain": [
       "['张三']"
      ]
     },
     "execution_count": 55,
     "metadata": {},
     "output_type": "execute_result"
    }
   ],
   "source": [
    "queue.append('张三')\n",
    "queue"
   ]
  },
  {
   "cell_type": "code",
   "execution_count": 56,
   "id": "0beb5570-fecb-48e9-b97e-7fd6254bdd40",
   "metadata": {},
   "outputs": [
    {
     "data": {
      "text/plain": [
       "['张三', '李四']"
      ]
     },
     "execution_count": 56,
     "metadata": {},
     "output_type": "execute_result"
    }
   ],
   "source": [
    "queue.append('李四')\n",
    "queue"
   ]
  },
  {
   "cell_type": "code",
   "execution_count": 57,
   "id": "6c55fa55-17dd-4195-83f5-896a8061b9aa",
   "metadata": {},
   "outputs": [
    {
     "name": "stdout",
     "output_type": "stream",
     "text": [
      "服务: 李四\n",
      "排队：['张三']\n"
     ]
    }
   ],
   "source": [
    "processed = queue.pop()     # 出队\n",
    "print(f'服务: {processed}')\n",
    "print(f'排队：{queue}')"
   ]
  },
  {
   "cell_type": "code",
   "execution_count": 58,
   "id": "981501dd-523c-4e25-b60a-8c854dbfcdb9",
   "metadata": {},
   "outputs": [
    {
     "name": "stdout",
     "output_type": "stream",
     "text": [
      "服务: 张三\n",
      "排队：[]\n"
     ]
    }
   ],
   "source": [
    "processed = queue.pop()     # 出队\n",
    "print(f'服务: {processed}')\n",
    "print(f'排队：{queue}')"
   ]
  },
  {
   "cell_type": "code",
   "execution_count": null,
   "id": "84819da8-787f-406d-b0b9-542ee23ecf4f",
   "metadata": {},
   "outputs": [],
   "source": []
  },
  {
   "cell_type": "code",
   "execution_count": 68,
   "id": "f5933ee1-4582-4e7c-b28e-799966663af0",
   "metadata": {},
   "outputs": [],
   "source": [
    "名单A = ['张三', '王五', '刘一', '赵六', '孙七', \n",
    "         '李四', '周八', '吴九', '郑十']\n",
    "名单B = ['张三', '刘一', '赵六', '陈二', '李四', \n",
    "         '王五', '孙七', '周八', '郑十']"
   ]
  },
  {
   "cell_type": "code",
   "execution_count": 63,
   "id": "9208523a-c2e0-4993-aa2f-b6e13228cf7c",
   "metadata": {},
   "outputs": [],
   "source": [
    "a = set(名单A)\n",
    "b = set(名单B)"
   ]
  },
  {
   "cell_type": "code",
   "execution_count": null,
   "id": "02e978a3-8602-400a-871a-96e7132daf05",
   "metadata": {},
   "outputs": [],
   "source": []
  },
  {
   "cell_type": "code",
   "execution_count": 65,
   "id": "2020d2ad-6e46-4cd1-93fc-c1966e99d09f",
   "metadata": {},
   "outputs": [
    {
     "data": {
      "text/plain": [
       "{'吴九', '陈二'}"
      ]
     },
     "execution_count": 65,
     "metadata": {},
     "output_type": "execute_result"
    }
   ],
   "source": [
    "a ^ b"
   ]
  },
  {
   "cell_type": "code",
   "execution_count": 66,
   "id": "447b144b-6c6e-4e6b-b2fa-e8ee019fabba",
   "metadata": {},
   "outputs": [
    {
     "data": {
      "text/plain": [
       "{'吴九'}"
      ]
     },
     "execution_count": 66,
     "metadata": {},
     "output_type": "execute_result"
    }
   ],
   "source": [
    "a - b"
   ]
  },
  {
   "cell_type": "code",
   "execution_count": 67,
   "id": "11af0249-684a-4587-adf7-c2cbfdb6263c",
   "metadata": {},
   "outputs": [
    {
     "data": {
      "text/plain": [
       "{'陈二'}"
      ]
     },
     "execution_count": 67,
     "metadata": {},
     "output_type": "execute_result"
    }
   ],
   "source": [
    "b - a"
   ]
  }
 ],
 "metadata": {
  "kernelspec": {
   "display_name": "Python 3 (ipykernel)",
   "language": "python",
   "name": "python3"
  },
  "language_info": {
   "codemirror_mode": {
    "name": "ipython",
    "version": 3
   },
   "file_extension": ".py",
   "mimetype": "text/x-python",
   "name": "python",
   "nbconvert_exporter": "python",
   "pygments_lexer": "ipython3",
   "version": "3.11.4"
  }
 },
 "nbformat": 4,
 "nbformat_minor": 5
}
