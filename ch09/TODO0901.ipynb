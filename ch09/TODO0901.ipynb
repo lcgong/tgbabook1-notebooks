{
 "cells": [
  {
   "cell_type": "code",
   "execution_count": 2,
   "id": "1abb1861-ab96-475a-bcf9-4c48a9574da5",
   "metadata": {},
   "outputs": [],
   "source": [
    "import pandas as pd\n",
    "import numpy as np"
   ]
  },
  {
   "cell_type": "code",
   "execution_count": null,
   "id": "e87c0281-fbe1-46fa-b040-5794c45551e1",
   "metadata": {},
   "outputs": [],
   "source": []
  },
  {
   "cell_type": "code",
   "execution_count": 5,
   "id": "8b567882-edad-4627-a484-49b80612a055",
   "metadata": {},
   "outputs": [
    {
     "name": "stdout",
     "output_type": "stream",
     "text": [
      "\\begin{tabular}{lrrrr}\n",
      "\\toprule\n",
      " & S2 & S1 & S4 & S3 \\\\\n",
      "\\midrule\n",
      "0 & 200.000000 & 100.000000 & 400.000000 & NaN \\\\\n",
      "1 & 20.000000 & 10.000000 & 40.000000 & 30.000000 \\\\\n",
      "\\bottomrule\n",
      "\\end{tabular}\n",
      "\n"
     ]
    }
   ],
   "source": [
    "s1 = pd.Series([10,   20, 30, 40], index=['S1', 'S2', 'S3', 'S4'])\n",
    "s2 = pd.Series([200, 100,    400], index=['S2', 'S1',       'S4'])\n",
    "\n",
    "df = pd.DataFrame([s2, s1])\n",
    "\n",
    "\n",
    "print(df.to_latex())"
   ]
  },
  {
   "cell_type": "code",
   "execution_count": null,
   "id": "9b11fc69-a16b-4c2d-bc08-c542b9578e04",
   "metadata": {},
   "outputs": [],
   "source": []
  },
  {
   "cell_type": "code",
   "execution_count": 3,
   "id": "ee47e145-bfdc-499b-af67-6edb3d536d40",
   "metadata": {},
   "outputs": [
    {
     "data": {
      "text/html": [
       "<div>\n",
       "<style scoped>\n",
       "    .dataframe tbody tr th:only-of-type {\n",
       "        vertical-align: middle;\n",
       "    }\n",
       "\n",
       "    .dataframe tbody tr th {\n",
       "        vertical-align: top;\n",
       "    }\n",
       "\n",
       "    .dataframe thead th {\n",
       "        text-align: right;\n",
       "    }\n",
       "</style>\n",
       "<table border=\"1\" class=\"dataframe\">\n",
       "  <thead>\n",
       "    <tr style=\"text-align: right;\">\n",
       "      <th></th>\n",
       "      <th>A</th>\n",
       "      <th>B</th>\n",
       "    </tr>\n",
       "  </thead>\n",
       "  <tbody>\n",
       "    <tr>\n",
       "      <th>0</th>\n",
       "      <td>6</td>\n",
       "      <td>6</td>\n",
       "    </tr>\n",
       "    <tr>\n",
       "      <th>1</th>\n",
       "      <td>8</td>\n",
       "      <td>8</td>\n",
       "    </tr>\n",
       "  </tbody>\n",
       "</table>\n",
       "</div>"
      ],
      "text/plain": [
       "   A  B\n",
       "0  6  6\n",
       "1  8  8"
      ]
     },
     "execution_count": 3,
     "metadata": {},
     "output_type": "execute_result"
    }
   ],
   "source": [
    "import pandas as pd\n",
    "\n",
    "df1 = pd.DataFrame({'A': [0, 1], 'B': [2, 3]})\n",
    "\n",
    "df2 = pd.DataFrame({'B': [4, 5], 'A': [6, 7]})\n",
    "\n",
    "df1 + df2"
   ]
  },
  {
   "cell_type": "code",
   "execution_count": 47,
   "id": "92b8b006-14e7-4735-80a6-275f0280c467",
   "metadata": {},
   "outputs": [
    {
     "name": "stdout",
     "output_type": "stream",
     "text": [
      "\\begin{tabular}{lllrrrr}\n",
      "\\toprule\n",
      " & 姓名 & 籍贯 & 年龄 & 成绩 & 平时成绩 & 总评成绩 \\\\\n",
      "\\midrule\n",
      "102 & 李四 & 山东 & 41.000000 & 88.000000 & 80.000000 & 86.000000 \\\\\n",
      "101 & 张三 & 天津 & 28.000000 & 79.000000 & 81.000000 & 80.000000 \\\\\n",
      "103 & 赵六 & 北京 & NaN & 75.000000 & 80.000000 & 81.000000 \\\\\n",
      "104 & 孙七 & 山东 & 34.000000 & 80.000000 & 83.000000 & 81.000000 \\\\\n",
      "\\bottomrule\n",
      "\\end{tabular}\n",
      "\n"
     ]
    },
    {
     "data": {
      "text/html": [
       "<div>\n",
       "<style scoped>\n",
       "    .dataframe tbody tr th:only-of-type {\n",
       "        vertical-align: middle;\n",
       "    }\n",
       "\n",
       "    .dataframe tbody tr th {\n",
       "        vertical-align: top;\n",
       "    }\n",
       "\n",
       "    .dataframe thead th {\n",
       "        text-align: right;\n",
       "    }\n",
       "</style>\n",
       "<table border=\"1\" class=\"dataframe\">\n",
       "  <thead>\n",
       "    <tr style=\"text-align: right;\">\n",
       "      <th></th>\n",
       "      <th>姓名</th>\n",
       "      <th>籍贯</th>\n",
       "      <th>年龄</th>\n",
       "      <th>成绩</th>\n",
       "      <th>平时成绩</th>\n",
       "      <th>总评成绩</th>\n",
       "    </tr>\n",
       "  </thead>\n",
       "  <tbody>\n",
       "    <tr>\n",
       "      <th>102</th>\n",
       "      <td>李四</td>\n",
       "      <td>山东</td>\n",
       "      <td>41.0</td>\n",
       "      <td>88.0</td>\n",
       "      <td>80.0</td>\n",
       "      <td>86.0</td>\n",
       "    </tr>\n",
       "    <tr>\n",
       "      <th>101</th>\n",
       "      <td>张三</td>\n",
       "      <td>天津</td>\n",
       "      <td>28.0</td>\n",
       "      <td>79.0</td>\n",
       "      <td>81.0</td>\n",
       "      <td>80.0</td>\n",
       "    </tr>\n",
       "    <tr>\n",
       "      <th>103</th>\n",
       "      <td>赵六</td>\n",
       "      <td>北京</td>\n",
       "      <td>NaN</td>\n",
       "      <td>75.0</td>\n",
       "      <td>80.0</td>\n",
       "      <td>76.0</td>\n",
       "    </tr>\n",
       "    <tr>\n",
       "      <th>104</th>\n",
       "      <td>孙七</td>\n",
       "      <td>山东</td>\n",
       "      <td>34.0</td>\n",
       "      <td>80.0</td>\n",
       "      <td>83.0</td>\n",
       "      <td>81.0</td>\n",
       "    </tr>\n",
       "  </tbody>\n",
       "</table>\n",
       "</div>"
      ],
      "text/plain": [
       "     姓名  籍贯    年龄    成绩  平时成绩  总评成绩\n",
       "102  李四  山东  41.0  88.0  80.0  86.0\n",
       "101  张三  天津  28.0  79.0  81.0  80.0\n",
       "103  赵六  北京   NaN  75.0  80.0  76.0\n",
       "104  孙七  山东  34.0  80.0  83.0  81.0"
      ]
     },
     "metadata": {},
     "output_type": "display_data"
    },
    {
     "name": "stdout",
     "output_type": "stream",
     "text": [
      "\\begin{tabular}{lllrrrr}\n",
      "\\toprule\n",
      " & 姓名 & 籍贯 & 年龄 & 成绩 & 平时成绩 & 总评成绩 \\\\\n",
      "\\midrule\n",
      "102 & 李四 & 山东 & 41.000000 & 88.000000 & 80.000000 & 86.000000 \\\\\n",
      "101 & 张三 & 天津 & 28.000000 & 79.000000 & 81.000000 & 80.000000 \\\\\n",
      "103 & 赵六 & 北京 & NaN & 75.000000 & 80.000000 & 76.000000 \\\\\n",
      "104 & 孙七 & 山东 & 34.000000 & 80.000000 & 83.000000 & 81.000000 \\\\\n",
      "\\bottomrule\n",
      "\\end{tabular}\n",
      "\n"
     ]
    }
   ],
   "source": [
    "data = {\n",
    "    '姓名': ['李四', '张三', '赵六', '孙七'],\n",
    "    '籍贯': ['山东', '天津', '北京', '山东'],\n",
    "    '年龄': [41, 28, np.nan, 34],\n",
    "    '成绩': [88.0, 79.0, 81.0, 80.0]\n",
    "}\n",
    "\n",
    "学号 = [102, 101, 103, 104]\n",
    "df = pd.DataFrame(data, index=学号)\n",
    "\n",
    "# df = df.loc[:, df.isna().any()]\n",
    "\n",
    "# df['平时成绩'] = [80.0, 81.0, 82.0, 83.0]\n",
    "df1 = df.copy()\n",
    "df1['平时成绩'] = [80.0, 81.0, 82.0, 83.0]\n",
    "df1['总评成绩'] = 0.3 * df1.平时成绩 + 0.7 * df1.成绩\n",
    "df1.总评成绩 = np.round(df1.总评成绩, 0)\n",
    "\n",
    "df1.loc[df1.姓名 == '赵六', ['成绩', '平时成绩']] = [75, 80]\n",
    "print(df1.to_latex())\n",
    "df1['总评成绩'] = np.round(0.3 * df1.平时成绩 + 0.7 * df1.成绩, 0)\n",
    "df1\n",
    "\n",
    "display(df1)\n",
    "print(df1.to_latex())"
   ]
  },
  {
   "cell_type": "code",
   "execution_count": null,
   "id": "e353e51e-8d40-4b7f-975d-7bcec852b595",
   "metadata": {},
   "outputs": [],
   "source": []
  },
  {
   "cell_type": "code",
   "execution_count": 14,
   "id": "3a4a011f-eddb-4012-b3b7-2f629cd5057a",
   "metadata": {},
   "outputs": [
    {
     "data": {
      "text/html": [
       "<div>\n",
       "<style scoped>\n",
       "    .dataframe tbody tr th:only-of-type {\n",
       "        vertical-align: middle;\n",
       "    }\n",
       "\n",
       "    .dataframe tbody tr th {\n",
       "        vertical-align: top;\n",
       "    }\n",
       "\n",
       "    .dataframe thead th {\n",
       "        text-align: right;\n",
       "    }\n",
       "</style>\n",
       "<table border=\"1\" class=\"dataframe\">\n",
       "  <thead>\n",
       "    <tr style=\"text-align: right;\">\n",
       "      <th></th>\n",
       "      <th>0</th>\n",
       "      <th>1</th>\n",
       "    </tr>\n",
       "  </thead>\n",
       "  <tbody>\n",
       "    <tr>\n",
       "      <th>0</th>\n",
       "      <td>True</td>\n",
       "      <td>True</td>\n",
       "    </tr>\n",
       "    <tr>\n",
       "      <th>1</th>\n",
       "      <td>False</td>\n",
       "      <td>False</td>\n",
       "    </tr>\n",
       "  </tbody>\n",
       "</table>\n",
       "</div>"
      ],
      "text/plain": [
       "       0      1\n",
       "0   True   True\n",
       "1  False  False"
      ]
     },
     "execution_count": 14,
     "metadata": {},
     "output_type": "execute_result"
    }
   ],
   "source": [
    "pd.DataFrame([[10, 20],[30, 40]]) < 25"
   ]
  },
  {
   "cell_type": "code",
   "execution_count": null,
   "id": "d9cf7e3e-6bb0-45b2-9dcb-aadd306d25b5",
   "metadata": {},
   "outputs": [],
   "source": []
  },
  {
   "cell_type": "markdown",
   "id": "aed47ceb-9352-46f3-b1ec-7c0b17aae421",
   "metadata": {},
   "source": [
    "Why Are There So Many Python Dataframes?\n",
    "https://ponder.io/why-are-there-so-many-python-dataframes/"
   ]
  },
  {
   "cell_type": "code",
   "execution_count": 15,
   "id": "ed89a217-76a7-4236-ba40-3ec2fba2cd3b",
   "metadata": {},
   "outputs": [
    {
     "data": {
      "text/html": [
       "<div>\n",
       "<style scoped>\n",
       "    .dataframe tbody tr th:only-of-type {\n",
       "        vertical-align: middle;\n",
       "    }\n",
       "\n",
       "    .dataframe tbody tr th {\n",
       "        vertical-align: top;\n",
       "    }\n",
       "\n",
       "    .dataframe thead th {\n",
       "        text-align: right;\n",
       "    }\n",
       "</style>\n",
       "<table border=\"1\" class=\"dataframe\">\n",
       "  <thead>\n",
       "    <tr style=\"text-align: right;\">\n",
       "      <th></th>\n",
       "      <th>数量</th>\n",
       "    </tr>\n",
       "  </thead>\n",
       "  <tbody>\n",
       "    <tr>\n",
       "      <th>2023-09-30</th>\n",
       "      <td>1</td>\n",
       "    </tr>\n",
       "    <tr>\n",
       "      <th>2023-10-31</th>\n",
       "      <td>2</td>\n",
       "    </tr>\n",
       "    <tr>\n",
       "      <th>2023-11-30</th>\n",
       "      <td>3</td>\n",
       "    </tr>\n",
       "    <tr>\n",
       "      <th>2023-12-31</th>\n",
       "      <td>4</td>\n",
       "    </tr>\n",
       "    <tr>\n",
       "      <th>2024-01-31</th>\n",
       "      <td>5</td>\n",
       "    </tr>\n",
       "    <tr>\n",
       "      <th>2024-02-29</th>\n",
       "      <td>6</td>\n",
       "    </tr>\n",
       "    <tr>\n",
       "      <th>2024-03-31</th>\n",
       "      <td>7</td>\n",
       "    </tr>\n",
       "    <tr>\n",
       "      <th>2024-04-30</th>\n",
       "      <td>8</td>\n",
       "    </tr>\n",
       "    <tr>\n",
       "      <th>2024-05-31</th>\n",
       "      <td>9</td>\n",
       "    </tr>\n",
       "  </tbody>\n",
       "</table>\n",
       "</div>"
      ],
      "text/plain": [
       "            数量\n",
       "2023-09-30   1\n",
       "2023-10-31   2\n",
       "2023-11-30   3\n",
       "2023-12-31   4\n",
       "2024-01-31   5\n",
       "2024-02-29   6\n",
       "2024-03-31   7\n",
       "2024-04-30   8\n",
       "2024-05-31   9"
      ]
     },
     "execution_count": 15,
     "metadata": {},
     "output_type": "execute_result"
    }
   ],
   "source": [
    "import pandas as pd\n",
    "\n",
    "df = pd.DataFrame({'数量': list(range(1, 10))}, index=pd.date_range('2023-9-1', periods=9, freq='M'))\n",
    "df"
   ]
  },
  {
   "cell_type": "code",
   "execution_count": 16,
   "id": "d18a449d-0b13-4c0a-b5ba-e77a6e74b6a2",
   "metadata": {},
   "outputs": [
    {
     "data": {
      "text/html": [
       "<div>\n",
       "<style scoped>\n",
       "    .dataframe tbody tr th:only-of-type {\n",
       "        vertical-align: middle;\n",
       "    }\n",
       "\n",
       "    .dataframe tbody tr th {\n",
       "        vertical-align: top;\n",
       "    }\n",
       "\n",
       "    .dataframe thead th {\n",
       "        text-align: right;\n",
       "    }\n",
       "</style>\n",
       "<table border=\"1\" class=\"dataframe\">\n",
       "  <thead>\n",
       "    <tr style=\"text-align: right;\">\n",
       "      <th></th>\n",
       "      <th>数量</th>\n",
       "    </tr>\n",
       "  </thead>\n",
       "  <tbody>\n",
       "    <tr>\n",
       "      <th>2023-09-30</th>\n",
       "      <td>1</td>\n",
       "    </tr>\n",
       "    <tr>\n",
       "      <th>2023-10-31</th>\n",
       "      <td>2</td>\n",
       "    </tr>\n",
       "    <tr>\n",
       "      <th>2023-11-30</th>\n",
       "      <td>3</td>\n",
       "    </tr>\n",
       "    <tr>\n",
       "      <th>2023-12-31</th>\n",
       "      <td>4</td>\n",
       "    </tr>\n",
       "  </tbody>\n",
       "</table>\n",
       "</div>"
      ],
      "text/plain": [
       "            数量\n",
       "2023-09-30   1\n",
       "2023-10-31   2\n",
       "2023-11-30   3\n",
       "2023-12-31   4"
      ]
     },
     "execution_count": 16,
     "metadata": {},
     "output_type": "execute_result"
    }
   ],
   "source": [
    "df.loc['2023']"
   ]
  },
  {
   "cell_type": "code",
   "execution_count": 17,
   "id": "c1d15ec2-bb45-4f35-9f0f-f8958f3e0fdc",
   "metadata": {},
   "outputs": [
    {
     "data": {
      "text/html": [
       "<div>\n",
       "<style scoped>\n",
       "    .dataframe tbody tr th:only-of-type {\n",
       "        vertical-align: middle;\n",
       "    }\n",
       "\n",
       "    .dataframe tbody tr th {\n",
       "        vertical-align: top;\n",
       "    }\n",
       "\n",
       "    .dataframe thead th {\n",
       "        text-align: right;\n",
       "    }\n",
       "</style>\n",
       "<table border=\"1\" class=\"dataframe\">\n",
       "  <thead>\n",
       "    <tr style=\"text-align: right;\">\n",
       "      <th></th>\n",
       "      <th>数量</th>\n",
       "    </tr>\n",
       "  </thead>\n",
       "  <tbody>\n",
       "    <tr>\n",
       "      <th>2023-10-31</th>\n",
       "      <td>2</td>\n",
       "    </tr>\n",
       "  </tbody>\n",
       "</table>\n",
       "</div>"
      ],
      "text/plain": [
       "            数量\n",
       "2023-10-31   2"
      ]
     },
     "execution_count": 17,
     "metadata": {},
     "output_type": "execute_result"
    }
   ],
   "source": [
    "df.loc['2023-10']"
   ]
  },
  {
   "cell_type": "code",
   "execution_count": 21,
   "id": "388fc783-8396-4f5e-8c0f-29f513b1f173",
   "metadata": {},
   "outputs": [
    {
     "data": {
      "text/html": [
       "<div>\n",
       "<style scoped>\n",
       "    .dataframe tbody tr th:only-of-type {\n",
       "        vertical-align: middle;\n",
       "    }\n",
       "\n",
       "    .dataframe tbody tr th {\n",
       "        vertical-align: top;\n",
       "    }\n",
       "\n",
       "    .dataframe thead th {\n",
       "        text-align: right;\n",
       "    }\n",
       "</style>\n",
       "<table border=\"1\" class=\"dataframe\">\n",
       "  <thead>\n",
       "    <tr style=\"text-align: right;\">\n",
       "      <th></th>\n",
       "      <th>数量</th>\n",
       "    </tr>\n",
       "  </thead>\n",
       "  <tbody>\n",
       "    <tr>\n",
       "      <th>2023-09-30</th>\n",
       "      <td>1</td>\n",
       "    </tr>\n",
       "    <tr>\n",
       "      <th>2023-12-31</th>\n",
       "      <td>9</td>\n",
       "    </tr>\n",
       "    <tr>\n",
       "      <th>2024-03-31</th>\n",
       "      <td>18</td>\n",
       "    </tr>\n",
       "    <tr>\n",
       "      <th>2024-06-30</th>\n",
       "      <td>17</td>\n",
       "    </tr>\n",
       "  </tbody>\n",
       "</table>\n",
       "</div>"
      ],
      "text/plain": [
       "            数量\n",
       "2023-09-30   1\n",
       "2023-12-31   9\n",
       "2024-03-31  18\n",
       "2024-06-30  17"
      ]
     },
     "execution_count": 21,
     "metadata": {},
     "output_type": "execute_result"
    }
   ],
   "source": [
    "df.resample('3m').sum()"
   ]
  },
  {
   "cell_type": "code",
   "execution_count": 5,
   "id": "98c4e70f-ba16-49fe-80b8-6421f12e1d5b",
   "metadata": {},
   "outputs": [
    {
     "data": {
      "text/plain": [
       "0    4.0\n",
       "1    3.7\n",
       "dtype: float64"
      ]
     },
     "execution_count": 5,
     "metadata": {},
     "output_type": "execute_result"
    }
   ],
   "source": [
    "def calculate_gpa(score):\n",
    "    if score >= 90:\n",
    "        return 4.0\n",
    "    elif score >= 85:\n",
    "        return 3.7\n",
    "    elif score >= 82:\n",
    "        return 3.3\n",
    "    elif score >= 78:\n",
    "        return 3.0\n",
    "    elif score >= 75:\n",
    "        return 2.7\n",
    "    elif score >= 72:\n",
    "        return 2.3\n",
    "    elif score >= 68:\n",
    "        return 2.0\n",
    "    elif score >= 64:\n",
    "        return 1.5\n",
    "    elif score >= 60:\n",
    "        return 1.0\n",
    "    else:\n",
    "        return 0.0\n",
    "        \n",
    "pd.Series([99, 87]).apply(calculate_gpa)"
   ]
  },
  {
   "cell_type": "code",
   "execution_count": 11,
   "id": "2bb7213b-c84c-4ce5-b9b6-6dfc2d9c3498",
   "metadata": {},
   "outputs": [
    {
     "data": {
      "text/plain": [
       "0     30\n",
       "1     60\n",
       "2     90\n",
       "3    120\n",
       "4    150\n",
       "dtype: int64"
      ]
     },
     "execution_count": 11,
     "metadata": {},
     "output_type": "execute_result"
    }
   ],
   "source": [
    "data = {'A': [1, 2, 3, 4, 5],\n",
    "        'B': [10, 20, 30, 40, 50]}\n",
    "df = pd.DataFrame(data)\n",
    "\n",
    "# 定义一个函数，将每个元素乘以2\n",
    "def multiply_by_two(x):\n",
    "    return x.A * 20 + x.B\n",
    "\n",
    "df.apply(multiply_by_two, axis=1)"
   ]
  }
 ],
 "metadata": {
  "kernelspec": {
   "display_name": "Python 3 (ipykernel)",
   "language": "python",
   "name": "python3"
  },
  "language_info": {
   "codemirror_mode": {
    "name": "ipython",
    "version": 3
   },
   "file_extension": ".py",
   "mimetype": "text/x-python",
   "name": "python",
   "nbconvert_exporter": "python",
   "pygments_lexer": "ipython3",
   "version": "3.10.12"
  }
 },
 "nbformat": 4,
 "nbformat_minor": 5
}
