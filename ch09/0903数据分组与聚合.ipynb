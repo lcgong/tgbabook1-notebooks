{
 "cells": [
  {
   "cell_type": "code",
   "execution_count": 1,
   "id": "40990b60-87f9-4782-8bfc-264256850abc",
   "metadata": {},
   "outputs": [],
   "source": [
    "import numpy as np\n",
    "import pandas as pd"
   ]
  },
  {
   "cell_type": "markdown",
   "id": "f557b74e-b28e-441d-9ce9-65d50c54d4b4",
   "metadata": {},
   "source": [
    "# 数据框的分组与聚合"
   ]
  },
  {
   "cell_type": "code",
   "execution_count": 46,
   "id": "b308b1fd-cbef-4ca1-9abb-0823613abd34",
   "metadata": {},
   "outputs": [
    {
     "data": {
      "text/html": [
       "<div>\n",
       "<style scoped>\n",
       "    .dataframe tbody tr th:only-of-type {\n",
       "        vertical-align: middle;\n",
       "    }\n",
       "\n",
       "    .dataframe tbody tr th {\n",
       "        vertical-align: top;\n",
       "    }\n",
       "\n",
       "    .dataframe thead th {\n",
       "        text-align: right;\n",
       "    }\n",
       "</style>\n",
       "<table border=\"1\" class=\"dataframe\">\n",
       "  <thead>\n",
       "    <tr style=\"text-align: right;\">\n",
       "      <th></th>\n",
       "      <th>工号</th>\n",
       "      <th>部门</th>\n",
       "      <th>年龄</th>\n",
       "      <th>绩效</th>\n",
       "    </tr>\n",
       "  </thead>\n",
       "  <tbody>\n",
       "    <tr>\n",
       "      <th>0</th>\n",
       "      <td>801</td>\n",
       "      <td>B</td>\n",
       "      <td>37</td>\n",
       "      <td>33</td>\n",
       "    </tr>\n",
       "    <tr>\n",
       "      <th>1</th>\n",
       "      <td>802</td>\n",
       "      <td>B</td>\n",
       "      <td>47</td>\n",
       "      <td>22</td>\n",
       "    </tr>\n",
       "    <tr>\n",
       "      <th>2</th>\n",
       "      <td>803</td>\n",
       "      <td>A</td>\n",
       "      <td>37</td>\n",
       "      <td>12</td>\n",
       "    </tr>\n",
       "    <tr>\n",
       "      <th>3</th>\n",
       "      <td>804</td>\n",
       "      <td>B</td>\n",
       "      <td>32</td>\n",
       "      <td>37</td>\n",
       "    </tr>\n",
       "    <tr>\n",
       "      <th>4</th>\n",
       "      <td>805</td>\n",
       "      <td>B</td>\n",
       "      <td>28</td>\n",
       "      <td>34</td>\n",
       "    </tr>\n",
       "    <tr>\n",
       "      <th>5</th>\n",
       "      <td>806</td>\n",
       "      <td>A</td>\n",
       "      <td>20</td>\n",
       "      <td>45</td>\n",
       "    </tr>\n",
       "    <tr>\n",
       "      <th>6</th>\n",
       "      <td>807</td>\n",
       "      <td>B</td>\n",
       "      <td>39</td>\n",
       "      <td>48</td>\n",
       "    </tr>\n",
       "    <tr>\n",
       "      <th>7</th>\n",
       "      <td>808</td>\n",
       "      <td>A</td>\n",
       "      <td>18</td>\n",
       "      <td>43</td>\n",
       "    </tr>\n",
       "  </tbody>\n",
       "</table>\n",
       "</div>"
      ],
      "text/plain": [
       "    工号 部门  年龄  绩效\n",
       "0  801  B  37  33\n",
       "1  802  B  47  22\n",
       "2  803  A  37  12\n",
       "3  804  B  32  37\n",
       "4  805  B  28  34\n",
       "5  806  A  20  45\n",
       "6  807  B  39  48\n",
       "7  808  A  18  43"
      ]
     },
     "execution_count": 46,
     "metadata": {},
     "output_type": "execute_result"
    }
   ],
   "source": [
    "np.random.seed(2023)\n",
    "df = pd.DataFrame({\n",
    "    \"工号\": np.arange(801, 809),\n",
    "    \"部门\": np.random.choice(['A', 'B'], size=8),\n",
    "    \"年龄\": np.random.randint(15, 50, 8),\n",
    "    \"绩效\": np.random.randint(5, 50, 8),\n",
    "})\n",
    "df"
   ]
  },
  {
   "cell_type": "code",
   "execution_count": null,
   "id": "b237dc4b-5333-42ad-ab8e-d0eb351703bc",
   "metadata": {},
   "outputs": [],
   "source": []
  },
  {
   "cell_type": "code",
   "execution_count": 47,
   "id": "bc7e046e-efd2-4db7-a4cc-294658161a7e",
   "metadata": {},
   "outputs": [
    {
     "data": {
      "text/plain": [
       "<pandas.core.groupby.generic.DataFrameGroupBy object at 0x7f6b82f65ea0>"
      ]
     },
     "execution_count": 47,
     "metadata": {},
     "output_type": "execute_result"
    }
   ],
   "source": [
    "df.groupby([\"部门\"])"
   ]
  },
  {
   "cell_type": "code",
   "execution_count": null,
   "id": "2c2770e9-e631-435d-a4fa-775f203a4ffe",
   "metadata": {},
   "outputs": [],
   "source": []
  },
  {
   "cell_type": "code",
   "execution_count": 48,
   "id": "ff71d65d-cfd5-4a21-8916-b54d182428fa",
   "metadata": {},
   "outputs": [
    {
     "name": "stdout",
     "output_type": "stream",
     "text": [
      "== 部门: ('A',)\n"
     ]
    },
    {
     "data": {
      "text/html": [
       "<div>\n",
       "<style scoped>\n",
       "    .dataframe tbody tr th:only-of-type {\n",
       "        vertical-align: middle;\n",
       "    }\n",
       "\n",
       "    .dataframe tbody tr th {\n",
       "        vertical-align: top;\n",
       "    }\n",
       "\n",
       "    .dataframe thead th {\n",
       "        text-align: right;\n",
       "    }\n",
       "</style>\n",
       "<table border=\"1\" class=\"dataframe\">\n",
       "  <thead>\n",
       "    <tr style=\"text-align: right;\">\n",
       "      <th></th>\n",
       "      <th>工号</th>\n",
       "      <th>部门</th>\n",
       "      <th>年龄</th>\n",
       "      <th>绩效</th>\n",
       "    </tr>\n",
       "  </thead>\n",
       "  <tbody>\n",
       "    <tr>\n",
       "      <th>2</th>\n",
       "      <td>803</td>\n",
       "      <td>A</td>\n",
       "      <td>37</td>\n",
       "      <td>12</td>\n",
       "    </tr>\n",
       "    <tr>\n",
       "      <th>5</th>\n",
       "      <td>806</td>\n",
       "      <td>A</td>\n",
       "      <td>20</td>\n",
       "      <td>45</td>\n",
       "    </tr>\n",
       "    <tr>\n",
       "      <th>7</th>\n",
       "      <td>808</td>\n",
       "      <td>A</td>\n",
       "      <td>18</td>\n",
       "      <td>43</td>\n",
       "    </tr>\n",
       "  </tbody>\n",
       "</table>\n",
       "</div>"
      ],
      "text/plain": [
       "    工号 部门  年龄  绩效\n",
       "2  803  A  37  12\n",
       "5  806  A  20  45\n",
       "7  808  A  18  43"
      ]
     },
     "metadata": {},
     "output_type": "display_data"
    },
    {
     "name": "stdout",
     "output_type": "stream",
     "text": [
      "== 部门: ('B',)\n"
     ]
    },
    {
     "data": {
      "text/html": [
       "<div>\n",
       "<style scoped>\n",
       "    .dataframe tbody tr th:only-of-type {\n",
       "        vertical-align: middle;\n",
       "    }\n",
       "\n",
       "    .dataframe tbody tr th {\n",
       "        vertical-align: top;\n",
       "    }\n",
       "\n",
       "    .dataframe thead th {\n",
       "        text-align: right;\n",
       "    }\n",
       "</style>\n",
       "<table border=\"1\" class=\"dataframe\">\n",
       "  <thead>\n",
       "    <tr style=\"text-align: right;\">\n",
       "      <th></th>\n",
       "      <th>工号</th>\n",
       "      <th>部门</th>\n",
       "      <th>年龄</th>\n",
       "      <th>绩效</th>\n",
       "    </tr>\n",
       "  </thead>\n",
       "  <tbody>\n",
       "    <tr>\n",
       "      <th>0</th>\n",
       "      <td>801</td>\n",
       "      <td>B</td>\n",
       "      <td>37</td>\n",
       "      <td>33</td>\n",
       "    </tr>\n",
       "    <tr>\n",
       "      <th>1</th>\n",
       "      <td>802</td>\n",
       "      <td>B</td>\n",
       "      <td>47</td>\n",
       "      <td>22</td>\n",
       "    </tr>\n",
       "    <tr>\n",
       "      <th>3</th>\n",
       "      <td>804</td>\n",
       "      <td>B</td>\n",
       "      <td>32</td>\n",
       "      <td>37</td>\n",
       "    </tr>\n",
       "    <tr>\n",
       "      <th>4</th>\n",
       "      <td>805</td>\n",
       "      <td>B</td>\n",
       "      <td>28</td>\n",
       "      <td>34</td>\n",
       "    </tr>\n",
       "    <tr>\n",
       "      <th>6</th>\n",
       "      <td>807</td>\n",
       "      <td>B</td>\n",
       "      <td>39</td>\n",
       "      <td>48</td>\n",
       "    </tr>\n",
       "  </tbody>\n",
       "</table>\n",
       "</div>"
      ],
      "text/plain": [
       "    工号 部门  年龄  绩效\n",
       "0  801  B  37  33\n",
       "1  802  B  47  22\n",
       "3  804  B  32  37\n",
       "4  805  B  28  34\n",
       "6  807  B  39  48"
      ]
     },
     "metadata": {},
     "output_type": "display_data"
    }
   ],
   "source": [
    "for dept, grp in df.groupby([\"部门\"]):\n",
    "    print(f\"== 部门:\", dept)\n",
    "    display(grp)"
   ]
  },
  {
   "cell_type": "code",
   "execution_count": null,
   "id": "21a8373e-024b-4925-8fb9-a89afdfe6e23",
   "metadata": {},
   "outputs": [],
   "source": []
  },
  {
   "cell_type": "code",
   "execution_count": 49,
   "id": "a8444db4-a9eb-4282-92f4-7243be8e0335",
   "metadata": {},
   "outputs": [
    {
     "data": {
      "text/html": [
       "<div>\n",
       "<style scoped>\n",
       "    .dataframe tbody tr th:only-of-type {\n",
       "        vertical-align: middle;\n",
       "    }\n",
       "\n",
       "    .dataframe tbody tr th {\n",
       "        vertical-align: top;\n",
       "    }\n",
       "\n",
       "    .dataframe thead th {\n",
       "        text-align: right;\n",
       "    }\n",
       "</style>\n",
       "<table border=\"1\" class=\"dataframe\">\n",
       "  <thead>\n",
       "    <tr style=\"text-align: right;\">\n",
       "      <th></th>\n",
       "      <th>工号</th>\n",
       "      <th>年龄</th>\n",
       "      <th>绩效</th>\n",
       "    </tr>\n",
       "    <tr>\n",
       "      <th>部门</th>\n",
       "      <th></th>\n",
       "      <th></th>\n",
       "      <th></th>\n",
       "    </tr>\n",
       "  </thead>\n",
       "  <tbody>\n",
       "    <tr>\n",
       "      <th>A</th>\n",
       "      <td>805.666667</td>\n",
       "      <td>25.0</td>\n",
       "      <td>33.333333</td>\n",
       "    </tr>\n",
       "    <tr>\n",
       "      <th>B</th>\n",
       "      <td>803.800000</td>\n",
       "      <td>36.6</td>\n",
       "      <td>34.800000</td>\n",
       "    </tr>\n",
       "  </tbody>\n",
       "</table>\n",
       "</div>"
      ],
      "text/plain": [
       "            工号    年龄         绩效\n",
       "部门                             \n",
       "A   805.666667  25.0  33.333333\n",
       "B   803.800000  36.6  34.800000"
      ]
     },
     "execution_count": 49,
     "metadata": {},
     "output_type": "execute_result"
    }
   ],
   "source": [
    "df.groupby([\"部门\"]).agg('mean')"
   ]
  },
  {
   "cell_type": "code",
   "execution_count": 50,
   "id": "465b9e4b-e048-4b96-a807-dadd18c1ab07",
   "metadata": {},
   "outputs": [
    {
     "data": {
      "text/html": [
       "<div>\n",
       "<style scoped>\n",
       "    .dataframe tbody tr th:only-of-type {\n",
       "        vertical-align: middle;\n",
       "    }\n",
       "\n",
       "    .dataframe tbody tr th {\n",
       "        vertical-align: top;\n",
       "    }\n",
       "\n",
       "    .dataframe thead th {\n",
       "        text-align: right;\n",
       "    }\n",
       "</style>\n",
       "<table border=\"1\" class=\"dataframe\">\n",
       "  <thead>\n",
       "    <tr style=\"text-align: right;\">\n",
       "      <th></th>\n",
       "      <th>工号</th>\n",
       "      <th>年龄</th>\n",
       "      <th>绩效</th>\n",
       "    </tr>\n",
       "    <tr>\n",
       "      <th>部门</th>\n",
       "      <th></th>\n",
       "      <th></th>\n",
       "      <th></th>\n",
       "    </tr>\n",
       "  </thead>\n",
       "  <tbody>\n",
       "    <tr>\n",
       "      <th>A</th>\n",
       "      <td>805.666667</td>\n",
       "      <td>25.0</td>\n",
       "      <td>33.333333</td>\n",
       "    </tr>\n",
       "    <tr>\n",
       "      <th>B</th>\n",
       "      <td>803.800000</td>\n",
       "      <td>36.6</td>\n",
       "      <td>34.800000</td>\n",
       "    </tr>\n",
       "  </tbody>\n",
       "</table>\n",
       "</div>"
      ],
      "text/plain": [
       "            工号    年龄         绩效\n",
       "部门                             \n",
       "A   805.666667  25.0  33.333333\n",
       "B   803.800000  36.6  34.800000"
      ]
     },
     "execution_count": 50,
     "metadata": {},
     "output_type": "execute_result"
    }
   ],
   "source": [
    "df.groupby([\"部门\"]).mean()"
   ]
  },
  {
   "cell_type": "code",
   "execution_count": null,
   "id": "684aa0e0-1917-46ad-b554-121c04a622f5",
   "metadata": {},
   "outputs": [],
   "source": []
  },
  {
   "cell_type": "code",
   "execution_count": 51,
   "id": "20541f3f-3b41-4c92-a870-bfde61184e07",
   "metadata": {},
   "outputs": [
    {
     "data": {
      "text/html": [
       "<div>\n",
       "<style scoped>\n",
       "    .dataframe tbody tr th:only-of-type {\n",
       "        vertical-align: middle;\n",
       "    }\n",
       "\n",
       "    .dataframe tbody tr th {\n",
       "        vertical-align: top;\n",
       "    }\n",
       "\n",
       "    .dataframe thead th {\n",
       "        text-align: right;\n",
       "    }\n",
       "</style>\n",
       "<table border=\"1\" class=\"dataframe\">\n",
       "  <thead>\n",
       "    <tr style=\"text-align: right;\">\n",
       "      <th></th>\n",
       "      <th>年龄</th>\n",
       "      <th>绩效</th>\n",
       "    </tr>\n",
       "    <tr>\n",
       "      <th>部门</th>\n",
       "      <th></th>\n",
       "      <th></th>\n",
       "    </tr>\n",
       "  </thead>\n",
       "  <tbody>\n",
       "    <tr>\n",
       "      <th>A</th>\n",
       "      <td>25.0</td>\n",
       "      <td>33.333333</td>\n",
       "    </tr>\n",
       "    <tr>\n",
       "      <th>B</th>\n",
       "      <td>36.6</td>\n",
       "      <td>34.800000</td>\n",
       "    </tr>\n",
       "  </tbody>\n",
       "</table>\n",
       "</div>"
      ],
      "text/plain": [
       "      年龄         绩效\n",
       "部门                 \n",
       "A   25.0  33.333333\n",
       "B   36.6  34.800000"
      ]
     },
     "execution_count": 51,
     "metadata": {},
     "output_type": "execute_result"
    }
   ],
   "source": [
    "df.groupby(\"部门\")[['年龄', '绩效']].mean()"
   ]
  },
  {
   "cell_type": "code",
   "execution_count": 52,
   "id": "50433cca-72ef-4882-99d1-7ec344fd4652",
   "metadata": {},
   "outputs": [
    {
     "data": {
      "text/plain": [
       "部门\n",
       "A    25.0\n",
       "B    36.6\n",
       "Name: 年龄, dtype: float64"
      ]
     },
     "execution_count": 52,
     "metadata": {},
     "output_type": "execute_result"
    }
   ],
   "source": [
    "df.groupby(\"部门\").年龄.mean()"
   ]
  },
  {
   "cell_type": "code",
   "execution_count": null,
   "id": "40a1872d-d35f-4e1a-a41d-6276579193d4",
   "metadata": {},
   "outputs": [],
   "source": []
  },
  {
   "cell_type": "code",
   "execution_count": 53,
   "id": "095f8886-1bb4-4a60-83d5-cee94abcef16",
   "metadata": {},
   "outputs": [
    {
     "data": {
      "text/html": [
       "<div>\n",
       "<style scoped>\n",
       "    .dataframe tbody tr th:only-of-type {\n",
       "        vertical-align: middle;\n",
       "    }\n",
       "\n",
       "    .dataframe tbody tr th {\n",
       "        vertical-align: top;\n",
       "    }\n",
       "\n",
       "    .dataframe thead th {\n",
       "        text-align: right;\n",
       "    }\n",
       "</style>\n",
       "<table border=\"1\" class=\"dataframe\">\n",
       "  <thead>\n",
       "    <tr style=\"text-align: right;\">\n",
       "      <th></th>\n",
       "      <th>部门</th>\n",
       "      <th>年龄</th>\n",
       "      <th>绩效</th>\n",
       "    </tr>\n",
       "  </thead>\n",
       "  <tbody>\n",
       "    <tr>\n",
       "      <th>0</th>\n",
       "      <td>A</td>\n",
       "      <td>25.0</td>\n",
       "      <td>33.333333</td>\n",
       "    </tr>\n",
       "    <tr>\n",
       "      <th>1</th>\n",
       "      <td>B</td>\n",
       "      <td>36.6</td>\n",
       "      <td>34.800000</td>\n",
       "    </tr>\n",
       "  </tbody>\n",
       "</table>\n",
       "</div>"
      ],
      "text/plain": [
       "  部门    年龄         绩效\n",
       "0  A  25.0  33.333333\n",
       "1  B  36.6  34.800000"
      ]
     },
     "execution_count": 53,
     "metadata": {},
     "output_type": "execute_result"
    }
   ],
   "source": [
    "df.groupby(\"部门\", as_index=False)[['年龄', '绩效']].mean()"
   ]
  },
  {
   "cell_type": "code",
   "execution_count": 54,
   "id": "8b3de18e-a2ad-4edb-a56d-e50717b27a79",
   "metadata": {},
   "outputs": [
    {
     "data": {
      "text/html": [
       "<div>\n",
       "<style scoped>\n",
       "    .dataframe tbody tr th:only-of-type {\n",
       "        vertical-align: middle;\n",
       "    }\n",
       "\n",
       "    .dataframe tbody tr th {\n",
       "        vertical-align: top;\n",
       "    }\n",
       "\n",
       "    .dataframe thead th {\n",
       "        text-align: right;\n",
       "    }\n",
       "</style>\n",
       "<table border=\"1\" class=\"dataframe\">\n",
       "  <thead>\n",
       "    <tr style=\"text-align: right;\">\n",
       "      <th></th>\n",
       "      <th>部门</th>\n",
       "      <th>年龄</th>\n",
       "      <th>绩效</th>\n",
       "    </tr>\n",
       "  </thead>\n",
       "  <tbody>\n",
       "    <tr>\n",
       "      <th>0</th>\n",
       "      <td>A</td>\n",
       "      <td>25.0</td>\n",
       "      <td>33.333333</td>\n",
       "    </tr>\n",
       "    <tr>\n",
       "      <th>1</th>\n",
       "      <td>B</td>\n",
       "      <td>36.6</td>\n",
       "      <td>34.800000</td>\n",
       "    </tr>\n",
       "  </tbody>\n",
       "</table>\n",
       "</div>"
      ],
      "text/plain": [
       "  部门    年龄         绩效\n",
       "0  A  25.0  33.333333\n",
       "1  B  36.6  34.800000"
      ]
     },
     "execution_count": 54,
     "metadata": {},
     "output_type": "execute_result"
    }
   ],
   "source": [
    "df.groupby(\"部门\")[['年龄', '绩效']].mean().reset_index()"
   ]
  },
  {
   "cell_type": "code",
   "execution_count": null,
   "id": "42881233-bf92-44d8-9d9a-c7edf855ff41",
   "metadata": {},
   "outputs": [],
   "source": []
  },
  {
   "cell_type": "code",
   "execution_count": 55,
   "id": "68b63f35-a001-4deb-9f23-6afb3739444d",
   "metadata": {},
   "outputs": [
    {
     "data": {
      "text/html": [
       "<div>\n",
       "<style scoped>\n",
       "    .dataframe tbody tr th:only-of-type {\n",
       "        vertical-align: middle;\n",
       "    }\n",
       "\n",
       "    .dataframe tbody tr th {\n",
       "        vertical-align: top;\n",
       "    }\n",
       "\n",
       "    .dataframe thead tr th {\n",
       "        text-align: left;\n",
       "    }\n",
       "\n",
       "    .dataframe thead tr:last-of-type th {\n",
       "        text-align: right;\n",
       "    }\n",
       "</style>\n",
       "<table border=\"1\" class=\"dataframe\">\n",
       "  <thead>\n",
       "    <tr>\n",
       "      <th></th>\n",
       "      <th colspan=\"3\" halign=\"left\">绩效</th>\n",
       "      <th>年龄</th>\n",
       "    </tr>\n",
       "    <tr>\n",
       "      <th></th>\n",
       "      <th>mean</th>\n",
       "      <th>sum</th>\n",
       "      <th>std</th>\n",
       "      <th>median</th>\n",
       "    </tr>\n",
       "    <tr>\n",
       "      <th>部门</th>\n",
       "      <th></th>\n",
       "      <th></th>\n",
       "      <th></th>\n",
       "      <th></th>\n",
       "    </tr>\n",
       "  </thead>\n",
       "  <tbody>\n",
       "    <tr>\n",
       "      <th>A</th>\n",
       "      <td>33.333333</td>\n",
       "      <td>100</td>\n",
       "      <td>18.502252</td>\n",
       "      <td>20.0</td>\n",
       "    </tr>\n",
       "    <tr>\n",
       "      <th>B</th>\n",
       "      <td>34.800000</td>\n",
       "      <td>174</td>\n",
       "      <td>9.311283</td>\n",
       "      <td>37.0</td>\n",
       "    </tr>\n",
       "  </tbody>\n",
       "</table>\n",
       "</div>"
      ],
      "text/plain": [
       "           绩效                     年龄\n",
       "         mean  sum        std median\n",
       "部门                                  \n",
       "A   33.333333  100  18.502252   20.0\n",
       "B   34.800000  174   9.311283   37.0"
      ]
     },
     "execution_count": 55,
     "metadata": {},
     "output_type": "execute_result"
    }
   ],
   "source": [
    "df2 = df.groupby('部门').agg({'绩效': ['mean', 'sum', 'std'], '年龄':'median'})\n",
    "df2"
   ]
  },
  {
   "cell_type": "code",
   "execution_count": 56,
   "id": "a647d6f1-19a8-4422-82dc-de38bfac4a62",
   "metadata": {},
   "outputs": [
    {
     "data": {
      "text/html": [
       "<div>\n",
       "<style scoped>\n",
       "    .dataframe tbody tr th:only-of-type {\n",
       "        vertical-align: middle;\n",
       "    }\n",
       "\n",
       "    .dataframe tbody tr th {\n",
       "        vertical-align: top;\n",
       "    }\n",
       "\n",
       "    .dataframe thead tr th {\n",
       "        text-align: left;\n",
       "    }\n",
       "\n",
       "    .dataframe thead tr:last-of-type th {\n",
       "        text-align: right;\n",
       "    }\n",
       "</style>\n",
       "<table border=\"1\" class=\"dataframe\">\n",
       "  <thead>\n",
       "    <tr>\n",
       "      <th></th>\n",
       "      <th colspan=\"2\" halign=\"left\">绩效</th>\n",
       "    </tr>\n",
       "    <tr>\n",
       "      <th></th>\n",
       "      <th>mean</th>\n",
       "      <th>sum</th>\n",
       "    </tr>\n",
       "    <tr>\n",
       "      <th>部门</th>\n",
       "      <th></th>\n",
       "      <th></th>\n",
       "    </tr>\n",
       "  </thead>\n",
       "  <tbody>\n",
       "    <tr>\n",
       "      <th>A</th>\n",
       "      <td>33.333333</td>\n",
       "      <td>100</td>\n",
       "    </tr>\n",
       "    <tr>\n",
       "      <th>B</th>\n",
       "      <td>34.800000</td>\n",
       "      <td>174</td>\n",
       "    </tr>\n",
       "  </tbody>\n",
       "</table>\n",
       "</div>"
      ],
      "text/plain": [
       "           绩效     \n",
       "         mean  sum\n",
       "部门                \n",
       "A   33.333333  100\n",
       "B   34.800000  174"
      ]
     },
     "execution_count": 56,
     "metadata": {},
     "output_type": "execute_result"
    }
   ],
   "source": [
    "df2[[('绩效',   'mean'), ('绩效',    'sum')]]"
   ]
  },
  {
   "cell_type": "code",
   "execution_count": null,
   "id": "9b27c2ce-69b4-4047-8112-8d5a85d8adf3",
   "metadata": {},
   "outputs": [],
   "source": []
  },
  {
   "cell_type": "markdown",
   "id": "ae41d499-45ec-4090-800f-03f4b7ad65f1",
   "metadata": {},
   "source": [
    "### 分组transform数据转换"
   ]
  },
  {
   "cell_type": "code",
   "execution_count": 57,
   "id": "a33df2c8-0ccb-4bd9-aede-79b7d65a4756",
   "metadata": {},
   "outputs": [
    {
     "data": {
      "text/html": [
       "<div>\n",
       "<style scoped>\n",
       "    .dataframe tbody tr th:only-of-type {\n",
       "        vertical-align: middle;\n",
       "    }\n",
       "\n",
       "    .dataframe tbody tr th {\n",
       "        vertical-align: top;\n",
       "    }\n",
       "\n",
       "    .dataframe thead th {\n",
       "        text-align: right;\n",
       "    }\n",
       "</style>\n",
       "<table border=\"1\" class=\"dataframe\">\n",
       "  <thead>\n",
       "    <tr style=\"text-align: right;\">\n",
       "      <th></th>\n",
       "      <th>工号</th>\n",
       "      <th>部门</th>\n",
       "      <th>年龄</th>\n",
       "      <th>绩效</th>\n",
       "    </tr>\n",
       "  </thead>\n",
       "  <tbody>\n",
       "    <tr>\n",
       "      <th>0</th>\n",
       "      <td>801</td>\n",
       "      <td>B</td>\n",
       "      <td>37</td>\n",
       "      <td>33</td>\n",
       "    </tr>\n",
       "    <tr>\n",
       "      <th>1</th>\n",
       "      <td>802</td>\n",
       "      <td>B</td>\n",
       "      <td>47</td>\n",
       "      <td>22</td>\n",
       "    </tr>\n",
       "    <tr>\n",
       "      <th>2</th>\n",
       "      <td>803</td>\n",
       "      <td>A</td>\n",
       "      <td>37</td>\n",
       "      <td>12</td>\n",
       "    </tr>\n",
       "    <tr>\n",
       "      <th>3</th>\n",
       "      <td>804</td>\n",
       "      <td>B</td>\n",
       "      <td>32</td>\n",
       "      <td>37</td>\n",
       "    </tr>\n",
       "    <tr>\n",
       "      <th>4</th>\n",
       "      <td>805</td>\n",
       "      <td>B</td>\n",
       "      <td>28</td>\n",
       "      <td>34</td>\n",
       "    </tr>\n",
       "    <tr>\n",
       "      <th>5</th>\n",
       "      <td>806</td>\n",
       "      <td>A</td>\n",
       "      <td>20</td>\n",
       "      <td>45</td>\n",
       "    </tr>\n",
       "    <tr>\n",
       "      <th>6</th>\n",
       "      <td>807</td>\n",
       "      <td>B</td>\n",
       "      <td>39</td>\n",
       "      <td>48</td>\n",
       "    </tr>\n",
       "    <tr>\n",
       "      <th>7</th>\n",
       "      <td>808</td>\n",
       "      <td>A</td>\n",
       "      <td>18</td>\n",
       "      <td>43</td>\n",
       "    </tr>\n",
       "  </tbody>\n",
       "</table>\n",
       "</div>"
      ],
      "text/plain": [
       "    工号 部门  年龄  绩效\n",
       "0  801  B  37  33\n",
       "1  802  B  47  22\n",
       "2  803  A  37  12\n",
       "3  804  B  32  37\n",
       "4  805  B  28  34\n",
       "5  806  A  20  45\n",
       "6  807  B  39  48\n",
       "7  808  A  18  43"
      ]
     },
     "execution_count": 57,
     "metadata": {},
     "output_type": "execute_result"
    }
   ],
   "source": [
    "df"
   ]
  },
  {
   "cell_type": "code",
   "execution_count": 58,
   "id": "662f1be3-2b4b-4c70-8c96-4bae330fcbba",
   "metadata": {},
   "outputs": [
    {
     "data": {
      "text/plain": [
       "部门\n",
       "A    33.333333\n",
       "B    34.800000\n",
       "Name: 绩效, dtype: float64"
      ]
     },
     "execution_count": 58,
     "metadata": {},
     "output_type": "execute_result"
    }
   ],
   "source": [
    "df.groupby('部门').绩效.mean()"
   ]
  },
  {
   "cell_type": "code",
   "execution_count": 59,
   "id": "59c327dd-faee-47df-a161-4a2c9e671b9d",
   "metadata": {},
   "outputs": [
    {
     "data": {
      "text/plain": [
       "0    34.800000\n",
       "1    34.800000\n",
       "2    33.333333\n",
       "3    34.800000\n",
       "4    34.800000\n",
       "5    33.333333\n",
       "6    34.800000\n",
       "7    33.333333\n",
       "Name: 绩效, dtype: float64"
      ]
     },
     "execution_count": 59,
     "metadata": {},
     "output_type": "execute_result"
    }
   ],
   "source": [
    "df.groupby('部门')['绩效'].transform('mean')"
   ]
  },
  {
   "cell_type": "code",
   "execution_count": null,
   "id": "bf1c10ca-d3a7-4f80-817d-0ea6320f321c",
   "metadata": {},
   "outputs": [],
   "source": []
  },
  {
   "cell_type": "code",
   "execution_count": 63,
   "id": "1a829560-b44e-4abc-9348-86d587f66a29",
   "metadata": {},
   "outputs": [
    {
     "data": {
      "text/html": [
       "<div>\n",
       "<style scoped>\n",
       "    .dataframe tbody tr th:only-of-type {\n",
       "        vertical-align: middle;\n",
       "    }\n",
       "\n",
       "    .dataframe tbody tr th {\n",
       "        vertical-align: top;\n",
       "    }\n",
       "\n",
       "    .dataframe thead th {\n",
       "        text-align: right;\n",
       "    }\n",
       "</style>\n",
       "<table border=\"1\" class=\"dataframe\">\n",
       "  <thead>\n",
       "    <tr style=\"text-align: right;\">\n",
       "      <th></th>\n",
       "      <th>工号</th>\n",
       "      <th>部门</th>\n",
       "      <th>年龄</th>\n",
       "      <th>绩效</th>\n",
       "      <th>部门平均绩效</th>\n",
       "      <th>部门内绩效差异</th>\n",
       "    </tr>\n",
       "  </thead>\n",
       "  <tbody>\n",
       "    <tr>\n",
       "      <th>0</th>\n",
       "      <td>801</td>\n",
       "      <td>B</td>\n",
       "      <td>37</td>\n",
       "      <td>33</td>\n",
       "      <td>34.800000</td>\n",
       "      <td>-1.800000</td>\n",
       "    </tr>\n",
       "    <tr>\n",
       "      <th>1</th>\n",
       "      <td>802</td>\n",
       "      <td>B</td>\n",
       "      <td>47</td>\n",
       "      <td>22</td>\n",
       "      <td>34.800000</td>\n",
       "      <td>-12.800000</td>\n",
       "    </tr>\n",
       "    <tr>\n",
       "      <th>2</th>\n",
       "      <td>803</td>\n",
       "      <td>A</td>\n",
       "      <td>37</td>\n",
       "      <td>12</td>\n",
       "      <td>33.333333</td>\n",
       "      <td>-21.333333</td>\n",
       "    </tr>\n",
       "    <tr>\n",
       "      <th>3</th>\n",
       "      <td>804</td>\n",
       "      <td>B</td>\n",
       "      <td>32</td>\n",
       "      <td>37</td>\n",
       "      <td>34.800000</td>\n",
       "      <td>2.200000</td>\n",
       "    </tr>\n",
       "    <tr>\n",
       "      <th>4</th>\n",
       "      <td>805</td>\n",
       "      <td>B</td>\n",
       "      <td>28</td>\n",
       "      <td>34</td>\n",
       "      <td>34.800000</td>\n",
       "      <td>-0.800000</td>\n",
       "    </tr>\n",
       "    <tr>\n",
       "      <th>5</th>\n",
       "      <td>806</td>\n",
       "      <td>A</td>\n",
       "      <td>20</td>\n",
       "      <td>45</td>\n",
       "      <td>33.333333</td>\n",
       "      <td>11.666667</td>\n",
       "    </tr>\n",
       "    <tr>\n",
       "      <th>6</th>\n",
       "      <td>807</td>\n",
       "      <td>B</td>\n",
       "      <td>39</td>\n",
       "      <td>48</td>\n",
       "      <td>34.800000</td>\n",
       "      <td>13.200000</td>\n",
       "    </tr>\n",
       "    <tr>\n",
       "      <th>7</th>\n",
       "      <td>808</td>\n",
       "      <td>A</td>\n",
       "      <td>18</td>\n",
       "      <td>43</td>\n",
       "      <td>33.333333</td>\n",
       "      <td>9.666667</td>\n",
       "    </tr>\n",
       "  </tbody>\n",
       "</table>\n",
       "</div>"
      ],
      "text/plain": [
       "    工号 部门  年龄  绩效     部门平均绩效    部门内绩效差异\n",
       "0  801  B  37  33  34.800000  -1.800000\n",
       "1  802  B  47  22  34.800000 -12.800000\n",
       "2  803  A  37  12  33.333333 -21.333333\n",
       "3  804  B  32  37  34.800000   2.200000\n",
       "4  805  B  28  34  34.800000  -0.800000\n",
       "5  806  A  20  45  33.333333  11.666667\n",
       "6  807  B  39  48  34.800000  13.200000\n",
       "7  808  A  18  43  33.333333   9.666667"
      ]
     },
     "execution_count": 63,
     "metadata": {},
     "output_type": "execute_result"
    }
   ],
   "source": [
    "df3 = df.copy()\n",
    "df3['部门平均绩效'] = df.groupby('部门')['绩效'].transform('mean')\n",
    "df3['部门内绩效差异'] = df3.绩效 - df3.部门平均绩效\n",
    "df3"
   ]
  },
  {
   "cell_type": "markdown",
   "id": "31d88462-3b04-4251-b143-388e5bef8422",
   "metadata": {},
   "source": [
    "<br>\n",
    "\n",
    "排名函数或秩函数[`rank()`](https://pandas.pydata.org/pandas-docs/stable/reference/api/pandas.DataFrame.rank.html)"
   ]
  },
  {
   "cell_type": "code",
   "execution_count": 64,
   "id": "ac4dba08-b74c-4eb3-8752-b1613a5a4e4c",
   "metadata": {},
   "outputs": [
    {
     "data": {
      "text/plain": [
       "2    10\n",
       "1    25\n",
       "3    25\n",
       "4    25\n",
       "0    30\n",
       "5    40\n",
       "dtype: int64"
      ]
     },
     "execution_count": 64,
     "metadata": {},
     "output_type": "execute_result"
    }
   ],
   "source": [
    "pd.Series([30, 25, 10, 25, 25, 40]).sort_values()"
   ]
  },
  {
   "cell_type": "code",
   "execution_count": 14,
   "id": "c047ba07-2a2f-4d97-ad5a-0cb6d7ec2f34",
   "metadata": {},
   "outputs": [
    {
     "data": {
      "text/plain": [
       "0    5.0\n",
       "1    3.0\n",
       "2    1.0\n",
       "3    3.0\n",
       "4    3.0\n",
       "5    6.0\n",
       "dtype: float64"
      ]
     },
     "execution_count": 14,
     "metadata": {},
     "output_type": "execute_result"
    }
   ],
   "source": [
    "pd.Series([30, 25, 10, 25, 25, 40]).rank()"
   ]
  },
  {
   "cell_type": "code",
   "execution_count": 65,
   "id": "6a63419a-4b06-4176-b565-81018b79cb75",
   "metadata": {},
   "outputs": [
    {
     "data": {
      "text/plain": [
       "0    2.0\n",
       "1    1.0\n",
       "2    1.0\n",
       "3    4.0\n",
       "4    3.0\n",
       "5    3.0\n",
       "6    5.0\n",
       "7    2.0\n",
       "Name: 绩效, dtype: float64"
      ]
     },
     "execution_count": 65,
     "metadata": {},
     "output_type": "execute_result"
    }
   ],
   "source": [
    "df.groupby('部门').绩效.rank()"
   ]
  },
  {
   "cell_type": "code",
   "execution_count": 66,
   "id": "95eeb56b-63e4-466a-8696-76c4f88ce985",
   "metadata": {},
   "outputs": [
    {
     "data": {
      "text/plain": [
       "0    4.0\n",
       "1    5.0\n",
       "2    3.0\n",
       "3    2.0\n",
       "4    3.0\n",
       "5    1.0\n",
       "6    1.0\n",
       "7    2.0\n",
       "Name: 绩效, dtype: float64"
      ]
     },
     "execution_count": 66,
     "metadata": {},
     "output_type": "execute_result"
    }
   ],
   "source": [
    "df.groupby('部门').绩效.rank(ascending=False)"
   ]
  },
  {
   "cell_type": "code",
   "execution_count": 67,
   "id": "43424b3c-3e9d-4b59-a675-60b1ae0c7db5",
   "metadata": {},
   "outputs": [
    {
     "data": {
      "text/plain": [
       "0    4.0\n",
       "1    5.0\n",
       "2    3.0\n",
       "3    2.0\n",
       "4    3.0\n",
       "5    1.0\n",
       "6    1.0\n",
       "7    2.0\n",
       "Name: 绩效, dtype: float64"
      ]
     },
     "execution_count": 67,
     "metadata": {},
     "output_type": "execute_result"
    }
   ],
   "source": [
    "df.groupby('部门')['绩效'].transform(\"rank\", ascending=False)"
   ]
  },
  {
   "cell_type": "code",
   "execution_count": null,
   "id": "9e088177-bae7-43d7-ac1c-b9afd5934c60",
   "metadata": {},
   "outputs": [],
   "source": []
  },
  {
   "cell_type": "code",
   "execution_count": 68,
   "id": "bfb3cfe9-c47a-4486-b844-98924adc6299",
   "metadata": {},
   "outputs": [
    {
     "data": {
      "text/html": [
       "<div>\n",
       "<style scoped>\n",
       "    .dataframe tbody tr th:only-of-type {\n",
       "        vertical-align: middle;\n",
       "    }\n",
       "\n",
       "    .dataframe tbody tr th {\n",
       "        vertical-align: top;\n",
       "    }\n",
       "\n",
       "    .dataframe thead th {\n",
       "        text-align: right;\n",
       "    }\n",
       "</style>\n",
       "<table border=\"1\" class=\"dataframe\">\n",
       "  <thead>\n",
       "    <tr style=\"text-align: right;\">\n",
       "      <th></th>\n",
       "      <th>工号</th>\n",
       "      <th>部门</th>\n",
       "      <th>年龄</th>\n",
       "      <th>绩效</th>\n",
       "      <th>部门平均绩效</th>\n",
       "      <th>部门内绩效差异</th>\n",
       "      <th>部门内绩效排名</th>\n",
       "    </tr>\n",
       "  </thead>\n",
       "  <tbody>\n",
       "    <tr>\n",
       "      <th>0</th>\n",
       "      <td>801</td>\n",
       "      <td>B</td>\n",
       "      <td>37</td>\n",
       "      <td>33</td>\n",
       "      <td>34.800000</td>\n",
       "      <td>-1.800000</td>\n",
       "      <td>4.0</td>\n",
       "    </tr>\n",
       "    <tr>\n",
       "      <th>1</th>\n",
       "      <td>802</td>\n",
       "      <td>B</td>\n",
       "      <td>47</td>\n",
       "      <td>22</td>\n",
       "      <td>34.800000</td>\n",
       "      <td>-12.800000</td>\n",
       "      <td>5.0</td>\n",
       "    </tr>\n",
       "    <tr>\n",
       "      <th>2</th>\n",
       "      <td>803</td>\n",
       "      <td>A</td>\n",
       "      <td>37</td>\n",
       "      <td>12</td>\n",
       "      <td>33.333333</td>\n",
       "      <td>-21.333333</td>\n",
       "      <td>3.0</td>\n",
       "    </tr>\n",
       "    <tr>\n",
       "      <th>3</th>\n",
       "      <td>804</td>\n",
       "      <td>B</td>\n",
       "      <td>32</td>\n",
       "      <td>37</td>\n",
       "      <td>34.800000</td>\n",
       "      <td>2.200000</td>\n",
       "      <td>2.0</td>\n",
       "    </tr>\n",
       "    <tr>\n",
       "      <th>4</th>\n",
       "      <td>805</td>\n",
       "      <td>B</td>\n",
       "      <td>28</td>\n",
       "      <td>34</td>\n",
       "      <td>34.800000</td>\n",
       "      <td>-0.800000</td>\n",
       "      <td>3.0</td>\n",
       "    </tr>\n",
       "    <tr>\n",
       "      <th>5</th>\n",
       "      <td>806</td>\n",
       "      <td>A</td>\n",
       "      <td>20</td>\n",
       "      <td>45</td>\n",
       "      <td>33.333333</td>\n",
       "      <td>11.666667</td>\n",
       "      <td>1.0</td>\n",
       "    </tr>\n",
       "    <tr>\n",
       "      <th>6</th>\n",
       "      <td>807</td>\n",
       "      <td>B</td>\n",
       "      <td>39</td>\n",
       "      <td>48</td>\n",
       "      <td>34.800000</td>\n",
       "      <td>13.200000</td>\n",
       "      <td>1.0</td>\n",
       "    </tr>\n",
       "    <tr>\n",
       "      <th>7</th>\n",
       "      <td>808</td>\n",
       "      <td>A</td>\n",
       "      <td>18</td>\n",
       "      <td>43</td>\n",
       "      <td>33.333333</td>\n",
       "      <td>9.666667</td>\n",
       "      <td>2.0</td>\n",
       "    </tr>\n",
       "  </tbody>\n",
       "</table>\n",
       "</div>"
      ],
      "text/plain": [
       "    工号 部门  年龄  绩效     部门平均绩效    部门内绩效差异  部门内绩效排名\n",
       "0  801  B  37  33  34.800000  -1.800000      4.0\n",
       "1  802  B  47  22  34.800000 -12.800000      5.0\n",
       "2  803  A  37  12  33.333333 -21.333333      3.0\n",
       "3  804  B  32  37  34.800000   2.200000      2.0\n",
       "4  805  B  28  34  34.800000  -0.800000      3.0\n",
       "5  806  A  20  45  33.333333  11.666667      1.0\n",
       "6  807  B  39  48  34.800000  13.200000      1.0\n",
       "7  808  A  18  43  33.333333   9.666667      2.0"
      ]
     },
     "execution_count": 68,
     "metadata": {},
     "output_type": "execute_result"
    }
   ],
   "source": [
    "df3['部门内绩效排名'] = df.groupby('部门').绩效.rank(ascending=False)\n",
    "df3"
   ]
  }
 ],
 "metadata": {
  "kernelspec": {
   "display_name": "Python 3 (ipykernel)",
   "language": "python",
   "name": "python3"
  },
  "language_info": {
   "codemirror_mode": {
    "name": "ipython",
    "version": 3
   },
   "file_extension": ".py",
   "mimetype": "text/x-python",
   "name": "python",
   "nbconvert_exporter": "python",
   "pygments_lexer": "ipython3",
   "version": "3.10.12"
  }
 },
 "nbformat": 4,
 "nbformat_minor": 5
}
