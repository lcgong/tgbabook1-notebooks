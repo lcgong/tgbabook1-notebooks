{
 "cells": [
  {
   "cell_type": "code",
   "execution_count": 1,
   "id": "706bcc1e-12c0-4a7e-8be4-8e3b3868474e",
   "metadata": {},
   "outputs": [
    {
     "data": {
      "text/plain": [
       "'fg'"
      ]
     },
     "execution_count": 1,
     "metadata": {},
     "output_type": "execute_result"
    }
   ],
   "source": [
    "import a.b.c\n",
    "\n",
    "a.b.c.f() + a.b.c.g()"
   ]
  },
  {
   "cell_type": "code",
   "execution_count": null,
   "id": "388b7c06-9831-42a4-b797-41a0ccb0ac0d",
   "metadata": {},
   "outputs": [],
   "source": []
  },
  {
   "cell_type": "code",
   "execution_count": 2,
   "id": "2cd36c31-d4b6-4cf3-9f11-f4dfc27c616f",
   "metadata": {},
   "outputs": [
    {
     "data": {
      "text/plain": [
       "'fg'"
      ]
     },
     "execution_count": 2,
     "metadata": {},
     "output_type": "execute_result"
    }
   ],
   "source": [
    "from a.b.c import f, g\n",
    "\n",
    "f() + g()"
   ]
  },
  {
   "cell_type": "code",
   "execution_count": null,
   "id": "25d2f88b-eb45-4b74-b088-04a9389997b8",
   "metadata": {},
   "outputs": [],
   "source": []
  },
  {
   "cell_type": "code",
   "execution_count": 3,
   "id": "78ca2ae3-b9bc-47b4-8b31-10ea6d7914f6",
   "metadata": {},
   "outputs": [
    {
     "data": {
      "text/plain": [
       "'fgf'"
      ]
     },
     "execution_count": 3,
     "metadata": {},
     "output_type": "execute_result"
    }
   ],
   "source": [
    "from a.b.c import f, g\n",
    "import a.d\n",
    "\n",
    "f() + g() + a.d.f()"
   ]
  },
  {
   "cell_type": "code",
   "execution_count": null,
   "id": "cdda8798-7923-4c26-9936-76a7412f8dff",
   "metadata": {},
   "outputs": [],
   "source": []
  },
  {
   "cell_type": "code",
   "execution_count": 4,
   "id": "c68b7aec-0b83-42ff-a17a-4a34084d0981",
   "metadata": {},
   "outputs": [
    {
     "data": {
      "text/plain": [
       "'fgf'"
      ]
     },
     "execution_count": 4,
     "metadata": {},
     "output_type": "execute_result"
    }
   ],
   "source": [
    "from a.b.c import f, g\n",
    "import a.d as p\n",
    "\n",
    "f() + g() + p.f()"
   ]
  },
  {
   "cell_type": "code",
   "execution_count": null,
   "id": "e38e42c9-ed38-4fb2-ac83-4098091e87d6",
   "metadata": {},
   "outputs": [],
   "source": []
  },
  {
   "cell_type": "code",
   "execution_count": 5,
   "id": "f831d259-5f05-4db3-8d53-f8bdfa07ab8d",
   "metadata": {},
   "outputs": [
    {
     "data": {
      "text/plain": [
       "'fgf'"
      ]
     },
     "execution_count": 5,
     "metadata": {},
     "output_type": "execute_result"
    }
   ],
   "source": [
    "import a.d as p\n",
    "import a.b.c as q\n",
    "\n",
    "q.f() + q.g() + p.f()"
   ]
  },
  {
   "cell_type": "code",
   "execution_count": null,
   "id": "9dd99965-fc1b-47f0-99d8-b1aaaa56a42a",
   "metadata": {},
   "outputs": [],
   "source": []
  },
  {
   "cell_type": "code",
   "execution_count": 6,
   "id": "b19c3080-a456-4ee7-aded-fc5480529e86",
   "metadata": {},
   "outputs": [
    {
     "data": {
      "text/plain": [
       "'fgf'"
      ]
     },
     "execution_count": 6,
     "metadata": {},
     "output_type": "execute_result"
    }
   ],
   "source": [
    "from a.b.c import f as f1, g\n",
    "from a.d import f as f2\n",
    "\n",
    "f1() + g() + f2()"
   ]
  }
 ],
 "metadata": {
  "kernelspec": {
   "display_name": "Python 3 (ipykernel)",
   "language": "python",
   "name": "python3"
  },
  "language_info": {
   "codemirror_mode": {
    "name": "ipython",
    "version": 3
   },
   "file_extension": ".py",
   "mimetype": "text/x-python",
   "name": "python",
   "nbconvert_exporter": "python",
   "pygments_lexer": "ipython3",
   "version": "3.10.12"
  }
 },
 "nbformat": 4,
 "nbformat_minor": 5
}
