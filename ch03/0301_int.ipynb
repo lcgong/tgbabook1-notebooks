{
 "cells": [
  {
   "cell_type": "code",
   "execution_count": 18,
   "id": "e6a53890-5954-4282-a896-a79d60a479fd",
   "metadata": {},
   "outputs": [
    {
     "name": "stdout",
     "output_type": "stream",
     "text": [
      "The Zen of Python, by Tim Peters\n",
      "\n",
      "Beautiful is better than ugly.\n",
      "Explicit is better than implicit.\n",
      "Simple is better than complex.\n",
      "Complex is better than complicated.\n",
      "Flat is better than nested.\n",
      "Sparse is better than dense.\n",
      "Readability counts.\n",
      "Special cases aren't special enough to break the rules.\n",
      "Although practicality beats purity.\n",
      "Errors should never pass silently.\n",
      "Unless explicitly silenced.\n",
      "In the face of ambiguity, refuse the temptation to guess.\n",
      "There should be one-- and preferably only one --obvious way to do it.\n",
      "Although that way may not be obvious at first unless you're Dutch.\n",
      "Now is better than never.\n",
      "Although never is often better than *right* now.\n",
      "If the implementation is hard to explain, it's a bad idea.\n",
      "If the implementation is easy to explain, it may be a good idea.\n",
      "Namespaces are one honking great idea -- let's do more of those!\n"
     ]
    }
   ],
   "source": [
    "import this"
   ]
  },
  {
   "cell_type": "markdown",
   "id": "555b3112-852c-41ac-95e5-1f9de6df845b",
   "metadata": {},
   "source": [
    "## 3.1. 整数"
   ]
  },
  {
   "cell_type": "code",
   "execution_count": 12,
   "id": "f8f8dc36-3ee0-427a-a4a7-265884c04b25",
   "metadata": {},
   "outputs": [
    {
     "data": {
      "text/plain": [
       "9999999999999999999999999999999999999999999999"
      ]
     },
     "execution_count": 12,
     "metadata": {},
     "output_type": "execute_result"
    }
   ],
   "source": [
    "10000000000000000000000000000000000000000000000 - 1"
   ]
  },
  {
   "cell_type": "code",
   "execution_count": 13,
   "id": "911fe928-a298-42c8-8928-9a2dbe92ff65",
   "metadata": {},
   "outputs": [
    {
     "data": {
      "text/plain": [
       "100000000"
      ]
     },
     "execution_count": 13,
     "metadata": {},
     "output_type": "execute_result"
    }
   ],
   "source": [
    "1_0000_0000"
   ]
  },
  {
   "cell_type": "code",
   "execution_count": 14,
   "id": "94e97d7c-91cf-40b1-88d9-639e991bf820",
   "metadata": {},
   "outputs": [
    {
     "data": {
      "text/plain": [
       "35"
      ]
     },
     "execution_count": 14,
     "metadata": {},
     "output_type": "execute_result"
    }
   ],
   "source": [
    "(2 + 3) * 7"
   ]
  },
  {
   "cell_type": "code",
   "execution_count": 15,
   "id": "7aab3a8a-636e-48e0-be89-678a6172ce52",
   "metadata": {},
   "outputs": [
    {
     "data": {
      "text/plain": [
       "2.6"
      ]
     },
     "execution_count": 15,
     "metadata": {},
     "output_type": "execute_result"
    }
   ],
   "source": [
    "13 / 5"
   ]
  },
  {
   "cell_type": "code",
   "execution_count": 16,
   "id": "b9aedbf1-d9a6-4c27-823b-aee479061f7e",
   "metadata": {},
   "outputs": [
    {
     "data": {
      "text/plain": [
       "2"
      ]
     },
     "execution_count": 16,
     "metadata": {},
     "output_type": "execute_result"
    }
   ],
   "source": [
    "13 // 5"
   ]
  },
  {
   "cell_type": "code",
   "execution_count": 17,
   "id": "06783f07-3b68-4120-a97c-10cc100d2f21",
   "metadata": {},
   "outputs": [
    {
     "data": {
      "text/plain": [
       "3"
      ]
     },
     "execution_count": 17,
     "metadata": {},
     "output_type": "execute_result"
    }
   ],
   "source": [
    "13 % 5"
   ]
  },
  {
   "cell_type": "markdown",
   "id": "eb696484-466b-4765-baaa-06674ccdefa4",
   "metadata": {},
   "source": [
    "## 3.2. 浮点"
   ]
  },
  {
   "cell_type": "code",
   "execution_count": 24,
   "id": "7fea01f8-5b09-4eaf-8ba9-7710290c0ea0",
   "metadata": {},
   "outputs": [
    {
     "data": {
      "text/plain": [
       "30.0"
      ]
     },
     "execution_count": 24,
     "metadata": {},
     "output_type": "execute_result"
    }
   ],
   "source": [
    "10 + 20.0 "
   ]
  },
  {
   "cell_type": "code",
   "execution_count": 29,
   "id": "cedacb99-14ff-4b5a-bedb-584529fc3689",
   "metadata": {},
   "outputs": [
    {
     "data": {
      "text/plain": [
       "3.0"
      ]
     },
     "execution_count": 29,
     "metadata": {},
     "output_type": "execute_result"
    }
   ],
   "source": [
    "1 + 2.0"
   ]
  },
  {
   "cell_type": "code",
   "execution_count": 25,
   "id": "831a4633-cae0-4fba-9945-9e28b1a58b2d",
   "metadata": {},
   "outputs": [
    {
     "data": {
      "text/plain": [
       "9007199254740992.0"
      ]
     },
     "execution_count": 25,
     "metadata": {},
     "output_type": "execute_result"
    }
   ],
   "source": [
    "2.0**53"
   ]
  },
  {
   "cell_type": "code",
   "execution_count": 26,
   "id": "aaa49a96-08ce-4063-8c6b-de59a697c46f",
   "metadata": {},
   "outputs": [
    {
     "data": {
      "text/plain": [
       "1.8014398509481984e+16"
      ]
     },
     "execution_count": 26,
     "metadata": {},
     "output_type": "execute_result"
    }
   ],
   "source": [
    "2.0**54"
   ]
  },
  {
   "cell_type": "code",
   "execution_count": 2,
   "id": "bb53c7c1-b3c1-4015-9dff-cc28b367e4a0",
   "metadata": {},
   "outputs": [
    {
     "data": {
      "text/plain": [
       "0.0123456"
      ]
     },
     "execution_count": 2,
     "metadata": {},
     "output_type": "execute_result"
    }
   ],
   "source": [
    "0.0123456"
   ]
  },
  {
   "cell_type": "code",
   "execution_count": 1,
   "id": "3f64d96b-39b6-4428-b5b3-3932b6f9bfa4",
   "metadata": {},
   "outputs": [
    {
     "data": {
      "text/plain": [
       "123.456"
      ]
     },
     "execution_count": 1,
     "metadata": {},
     "output_type": "execute_result"
    }
   ],
   "source": [
    "123.456"
   ]
  },
  {
   "cell_type": "code",
   "execution_count": 5,
   "id": "86c835fb-dc08-4190-bf8b-3e1dad5040e6",
   "metadata": {},
   "outputs": [
    {
     "data": {
      "text/plain": [
       "123.456"
      ]
     },
     "execution_count": 5,
     "metadata": {},
     "output_type": "execute_result"
    }
   ],
   "source": [
    "1.23456e2"
   ]
  },
  {
   "cell_type": "code",
   "execution_count": 6,
   "id": "531ff679-9f79-4ee0-a0d9-f49f1b56fb83",
   "metadata": {},
   "outputs": [
    {
     "data": {
      "text/plain": [
       "0.0123456"
      ]
     },
     "execution_count": 6,
     "metadata": {},
     "output_type": "execute_result"
    }
   ],
   "source": [
    "1.23456e-2"
   ]
  },
  {
   "cell_type": "code",
   "execution_count": null,
   "id": "12249f72-64a4-4f7e-8223-0db3e2616c46",
   "metadata": {},
   "outputs": [],
   "source": []
  },
  {
   "cell_type": "code",
   "execution_count": 1,
   "id": "6e8fa00d-d007-4b60-8555-7d0daa8db049",
   "metadata": {},
   "outputs": [
    {
     "data": {
      "text/plain": [
       "0.30000000000000004"
      ]
     },
     "execution_count": 1,
     "metadata": {},
     "output_type": "execute_result"
    }
   ],
   "source": [
    "0.1 + 0.2"
   ]
  },
  {
   "cell_type": "code",
   "execution_count": 2,
   "id": "81951187-74ec-431a-aae1-b1b3f245aaec",
   "metadata": {},
   "outputs": [
    {
     "data": {
      "text/plain": [
       "37.5"
      ]
     },
     "execution_count": 2,
     "metadata": {},
     "output_type": "execute_result"
    }
   ],
   "source": [
    "amount = 30\n",
    "1.25 * amount"
   ]
  },
  {
   "cell_type": "code",
   "execution_count": 6,
   "id": "4b42ad31-142a-430d-a145-e937cf8a3386",
   "metadata": {},
   "outputs": [
    {
     "data": {
      "text/plain": [
       "True"
      ]
     },
     "execution_count": 6,
     "metadata": {},
     "output_type": "execute_result"
    }
   ],
   "source": [
    "abs(0.1 + 0.2 - 0.3) < 1e10"
   ]
  },
  {
   "cell_type": "markdown",
   "id": "482150bf-9351-431b-a162-15fddc043c45",
   "metadata": {},
   "source": [
    "# 逻辑关系表达式"
   ]
  },
  {
   "cell_type": "code",
   "execution_count": 2,
   "id": "88d19381-2abe-4ccc-aa13-818e1b5f119d",
   "metadata": {},
   "outputs": [
    {
     "data": {
      "text/plain": [
       "True"
      ]
     },
     "execution_count": 2,
     "metadata": {},
     "output_type": "execute_result"
    }
   ],
   "source": [
    "类型 = '便携'\n",
    "价格 = 499.99\n",
    "\n",
    "(类型 == '便携' or 类型 == '迷你') and 价格 < 1000"
   ]
  },
  {
   "cell_type": "code",
   "execution_count": 11,
   "id": "09814336-d98c-43dd-90c2-a2b03b4d4aa5",
   "metadata": {},
   "outputs": [
    {
     "data": {
      "text/plain": [
       "True"
      ]
     },
     "execution_count": 11,
     "metadata": {},
     "output_type": "execute_result"
    }
   ],
   "source": [
    "价格 = 499.99\n",
    "\n",
    "100 <= 价格  and 价格 <= 500"
   ]
  },
  {
   "cell_type": "code",
   "execution_count": 8,
   "id": "66c51249-a8c0-483b-b16d-06c2207fdd44",
   "metadata": {},
   "outputs": [
    {
     "data": {
      "text/plain": [
       "True"
      ]
     },
     "execution_count": 8,
     "metadata": {},
     "output_type": "execute_result"
    }
   ],
   "source": [
    "价格 = 499.99\n",
    "\n",
    "100 <= 价格 <= 500"
   ]
  },
  {
   "cell_type": "markdown",
   "id": "d7ad2abb-c3cf-4218-b559-26443fe5ef87",
   "metadata": {},
   "source": [
    "# 赋值语句"
   ]
  },
  {
   "cell_type": "code",
   "execution_count": 6,
   "id": "9f6917b8-d11e-497e-beb3-43892484609a",
   "metadata": {},
   "outputs": [
    {
     "ename": "SyntaxError",
     "evalue": "invalid syntax (4058503025.py, line 4)",
     "output_type": "error",
     "traceback": [
      "\u001b[0;36m  Cell \u001b[0;32mIn[6], line 4\u001b[0;36m\u001b[0m\n\u001b[0;31m    (a += 1) + 1\u001b[0m\n\u001b[0m       ^\u001b[0m\n\u001b[0;31mSyntaxError\u001b[0m\u001b[0;31m:\u001b[0m invalid syntax\n"
     ]
    }
   ],
   "source": [
    "a = 10\n",
    "a = a + 1\n",
    "\n",
    "(a += 1) + 1"
   ]
  }
 ],
 "metadata": {
  "kernelspec": {
   "display_name": "Python 3 (ipykernel)",
   "language": "python",
   "name": "python3"
  },
  "language_info": {
   "codemirror_mode": {
    "name": "ipython",
    "version": 3
   },
   "file_extension": ".py",
   "mimetype": "text/x-python",
   "name": "python",
   "nbconvert_exporter": "python",
   "pygments_lexer": "ipython3",
   "version": "3.11.3"
  }
 },
 "nbformat": 4,
 "nbformat_minor": 5
}
