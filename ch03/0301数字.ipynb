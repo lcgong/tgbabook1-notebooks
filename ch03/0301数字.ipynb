{
 "cells": [
  {
   "cell_type": "markdown",
   "id": "555b3112-852c-41ac-95e5-1f9de6df845b",
   "metadata": {},
   "source": [
    "## 1. 整数"
   ]
  },
  {
   "cell_type": "code",
   "execution_count": 12,
   "id": "f8f8dc36-3ee0-427a-a4a7-265884c04b25",
   "metadata": {},
   "outputs": [
    {
     "data": {
      "text/plain": [
       "9999999999999999999999999999999999999999999999"
      ]
     },
     "execution_count": 12,
     "metadata": {},
     "output_type": "execute_result"
    }
   ],
   "source": [
    "10000000000000000000000000000000000000000000000 - 1"
   ]
  },
  {
   "cell_type": "code",
   "execution_count": null,
   "id": "3a3f9758-5c19-4afa-b461-5d272d5c7007",
   "metadata": {},
   "outputs": [],
   "source": []
  },
  {
   "cell_type": "code",
   "execution_count": 13,
   "id": "911fe928-a298-42c8-8928-9a2dbe92ff65",
   "metadata": {},
   "outputs": [
    {
     "data": {
      "text/plain": [
       "100000000"
      ]
     },
     "execution_count": 13,
     "metadata": {},
     "output_type": "execute_result"
    }
   ],
   "source": [
    "1_0000_0000"
   ]
  },
  {
   "cell_type": "code",
   "execution_count": null,
   "id": "01861e3a-570f-4423-b43f-c8f43be53450",
   "metadata": {},
   "outputs": [],
   "source": []
  },
  {
   "cell_type": "code",
   "execution_count": 14,
   "id": "94e97d7c-91cf-40b1-88d9-639e991bf820",
   "metadata": {},
   "outputs": [
    {
     "data": {
      "text/plain": [
       "35"
      ]
     },
     "execution_count": 14,
     "metadata": {},
     "output_type": "execute_result"
    }
   ],
   "source": [
    "(2 + 3) * 7"
   ]
  },
  {
   "cell_type": "code",
   "execution_count": null,
   "id": "24c36235-cfa3-43e4-936f-434c525e0f88",
   "metadata": {},
   "outputs": [],
   "source": []
  },
  {
   "cell_type": "code",
   "execution_count": 15,
   "id": "7aab3a8a-636e-48e0-be89-678a6172ce52",
   "metadata": {},
   "outputs": [
    {
     "data": {
      "text/plain": [
       "2.6"
      ]
     },
     "execution_count": 15,
     "metadata": {},
     "output_type": "execute_result"
    }
   ],
   "source": [
    "13 / 5"
   ]
  },
  {
   "cell_type": "code",
   "execution_count": null,
   "id": "a2b29bcb-9c83-4541-92ef-a4b40259cd3a",
   "metadata": {},
   "outputs": [],
   "source": []
  },
  {
   "cell_type": "code",
   "execution_count": 16,
   "id": "b9aedbf1-d9a6-4c27-823b-aee479061f7e",
   "metadata": {},
   "outputs": [
    {
     "data": {
      "text/plain": [
       "2"
      ]
     },
     "execution_count": 16,
     "metadata": {},
     "output_type": "execute_result"
    }
   ],
   "source": [
    "13 // 5"
   ]
  },
  {
   "cell_type": "code",
   "execution_count": null,
   "id": "c2b2bb69-9474-4483-af9e-c018681f33ae",
   "metadata": {},
   "outputs": [],
   "source": []
  },
  {
   "cell_type": "code",
   "execution_count": 17,
   "id": "06783f07-3b68-4120-a97c-10cc100d2f21",
   "metadata": {},
   "outputs": [
    {
     "data": {
      "text/plain": [
       "3"
      ]
     },
     "execution_count": 17,
     "metadata": {},
     "output_type": "execute_result"
    }
   ],
   "source": [
    "13 % 5"
   ]
  },
  {
   "cell_type": "code",
   "execution_count": null,
   "id": "450c5415-11a7-4c1c-9109-cc048c665e8d",
   "metadata": {},
   "outputs": [],
   "source": []
  },
  {
   "cell_type": "markdown",
   "id": "eb696484-466b-4765-baaa-06674ccdefa4",
   "metadata": {},
   "source": [
    "## 2. 浮点"
   ]
  },
  {
   "cell_type": "code",
   "execution_count": 24,
   "id": "7fea01f8-5b09-4eaf-8ba9-7710290c0ea0",
   "metadata": {},
   "outputs": [
    {
     "data": {
      "text/plain": [
       "30.0"
      ]
     },
     "execution_count": 24,
     "metadata": {},
     "output_type": "execute_result"
    }
   ],
   "source": [
    "10 + 20.0 "
   ]
  },
  {
   "cell_type": "code",
   "execution_count": 29,
   "id": "cedacb99-14ff-4b5a-bedb-584529fc3689",
   "metadata": {},
   "outputs": [
    {
     "data": {
      "text/plain": [
       "3.0"
      ]
     },
     "execution_count": 29,
     "metadata": {},
     "output_type": "execute_result"
    }
   ],
   "source": [
    "1 + 2.0"
   ]
  },
  {
   "cell_type": "code",
   "execution_count": null,
   "id": "43a0d760-3d90-4874-92c7-b3b568cfb9d3",
   "metadata": {},
   "outputs": [],
   "source": []
  },
  {
   "cell_type": "code",
   "execution_count": 25,
   "id": "831a4633-cae0-4fba-9945-9e28b1a58b2d",
   "metadata": {},
   "outputs": [
    {
     "data": {
      "text/plain": [
       "9007199254740992.0"
      ]
     },
     "execution_count": 25,
     "metadata": {},
     "output_type": "execute_result"
    }
   ],
   "source": [
    "2.0**53"
   ]
  },
  {
   "cell_type": "code",
   "execution_count": 26,
   "id": "aaa49a96-08ce-4063-8c6b-de59a697c46f",
   "metadata": {},
   "outputs": [
    {
     "data": {
      "text/plain": [
       "1.8014398509481984e+16"
      ]
     },
     "execution_count": 26,
     "metadata": {},
     "output_type": "execute_result"
    }
   ],
   "source": [
    "2.0**54"
   ]
  },
  {
   "cell_type": "code",
   "execution_count": null,
   "id": "30ac5b10-f6de-4142-8295-c1abc34137ef",
   "metadata": {},
   "outputs": [],
   "source": []
  },
  {
   "cell_type": "code",
   "execution_count": 2,
   "id": "bb53c7c1-b3c1-4015-9dff-cc28b367e4a0",
   "metadata": {},
   "outputs": [
    {
     "data": {
      "text/plain": [
       "0.0123456"
      ]
     },
     "execution_count": 2,
     "metadata": {},
     "output_type": "execute_result"
    }
   ],
   "source": [
    "0.0123456"
   ]
  },
  {
   "cell_type": "code",
   "execution_count": 1,
   "id": "3f64d96b-39b6-4428-b5b3-3932b6f9bfa4",
   "metadata": {},
   "outputs": [
    {
     "data": {
      "text/plain": [
       "123.456"
      ]
     },
     "execution_count": 1,
     "metadata": {},
     "output_type": "execute_result"
    }
   ],
   "source": [
    "123.456"
   ]
  },
  {
   "cell_type": "code",
   "execution_count": 5,
   "id": "86c835fb-dc08-4190-bf8b-3e1dad5040e6",
   "metadata": {},
   "outputs": [
    {
     "data": {
      "text/plain": [
       "123.456"
      ]
     },
     "execution_count": 5,
     "metadata": {},
     "output_type": "execute_result"
    }
   ],
   "source": [
    "1.23456e2"
   ]
  },
  {
   "cell_type": "code",
   "execution_count": 6,
   "id": "531ff679-9f79-4ee0-a0d9-f49f1b56fb83",
   "metadata": {},
   "outputs": [
    {
     "data": {
      "text/plain": [
       "0.0123456"
      ]
     },
     "execution_count": 6,
     "metadata": {},
     "output_type": "execute_result"
    }
   ],
   "source": [
    "1.23456e-2"
   ]
  },
  {
   "cell_type": "code",
   "execution_count": null,
   "id": "12249f72-64a4-4f7e-8223-0db3e2616c46",
   "metadata": {},
   "outputs": [],
   "source": []
  },
  {
   "cell_type": "code",
   "execution_count": 1,
   "id": "6e8fa00d-d007-4b60-8555-7d0daa8db049",
   "metadata": {},
   "outputs": [
    {
     "data": {
      "text/plain": [
       "0.30000000000000004"
      ]
     },
     "execution_count": 1,
     "metadata": {},
     "output_type": "execute_result"
    }
   ],
   "source": [
    "0.1 + 0.2"
   ]
  }
 ],
 "metadata": {
  "kernelspec": {
   "display_name": "Python 3 (ipykernel)",
   "language": "python",
   "name": "python3"
  },
  "language_info": {
   "codemirror_mode": {
    "name": "ipython",
    "version": 3
   },
   "file_extension": ".py",
   "mimetype": "text/x-python",
   "name": "python",
   "nbconvert_exporter": "python",
   "pygments_lexer": "ipython3",
   "version": "3.10.12"
  }
 },
 "nbformat": 4,
 "nbformat_minor": 5
}
