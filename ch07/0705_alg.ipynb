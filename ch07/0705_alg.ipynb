{
 "cells": [
  {
   "cell_type": "code",
   "execution_count": 1,
   "id": "5b6a5d02-af4e-4e50-8b11-08a70acf7d65",
   "metadata": {},
   "outputs": [],
   "source": [
    "import numpy as np"
   ]
  },
  {
   "cell_type": "markdown",
   "id": "b3df48d0-a6ff-47e3-a5f7-1c175048150f",
   "metadata": {},
   "source": [
    "\n",
    "## 1. 矩阵的转置(Transpose)"
   ]
  },
  {
   "cell_type": "code",
   "execution_count": 2,
   "id": "b87a119f-4ee3-4ce4-ab80-16828754d298",
   "metadata": {},
   "outputs": [
    {
     "data": {
      "text/plain": [
       "array([[1, 2],\n",
       "       [3, 4]])"
      ]
     },
     "execution_count": 2,
     "metadata": {},
     "output_type": "execute_result"
    }
   ],
   "source": [
    "x = np.array([[1, 2], [3, 4]])\n",
    "x"
   ]
  },
  {
   "cell_type": "code",
   "execution_count": 3,
   "id": "c47fa2da-1652-481a-8037-c0b3d5085f9b",
   "metadata": {},
   "outputs": [
    {
     "data": {
      "text/plain": [
       "array([[1, 3],\n",
       "       [2, 4]])"
      ]
     },
     "execution_count": 3,
     "metadata": {},
     "output_type": "execute_result"
    }
   ],
   "source": [
    "x.T"
   ]
  },
  {
   "cell_type": "markdown",
   "id": "c5e01cd4-bed8-4727-9dcf-6b5b7b7c7b86",
   "metadata": {},
   "source": [
    "### 3.3.2. 矩阵行列式(Determinant)"
   ]
  },
  {
   "cell_type": "code",
   "execution_count": 4,
   "id": "4aaee020-1ef8-4bdb-92f1-2da260578f99",
   "metadata": {},
   "outputs": [
    {
     "data": {
      "text/plain": [
       "-2.0000000000000004"
      ]
     },
     "execution_count": 4,
     "metadata": {},
     "output_type": "execute_result"
    }
   ],
   "source": [
    "A = np.array([[1, 2], [3, 4]])\n",
    "np.linalg.det(A)"
   ]
  },
  {
   "cell_type": "markdown",
   "id": "78033ea0-918b-406a-8a64-65213d883e62",
   "metadata": {},
   "source": [
    "<br>\n",
    "\n",
    "### 3.3.3.  矩阵的逆(Inverse)"
   ]
  },
  {
   "cell_type": "code",
   "execution_count": 5,
   "id": "1dcaa6fb-3ece-4150-8ee6-78b74cc78c16",
   "metadata": {},
   "outputs": [
    {
     "data": {
      "text/plain": [
       "array([[1, 2],\n",
       "       [3, 4]])"
      ]
     },
     "execution_count": 5,
     "metadata": {},
     "output_type": "execute_result"
    }
   ],
   "source": [
    "A = np.array([[1, 2], [3, 4]])\n",
    "A"
   ]
  },
  {
   "cell_type": "code",
   "execution_count": 6,
   "id": "0a7bc840-ccdc-4cb5-90b5-dacc01b9114c",
   "metadata": {},
   "outputs": [
    {
     "data": {
      "text/plain": [
       "array([[-2. ,  1. ],\n",
       "       [ 1.5, -0.5]])"
      ]
     },
     "execution_count": 6,
     "metadata": {},
     "output_type": "execute_result"
    }
   ],
   "source": [
    "A_inv = np.linalg.inv(A)\n",
    "A_inv"
   ]
  },
  {
   "cell_type": "code",
   "execution_count": 7,
   "id": "8b032c5c-8226-49fa-aadb-7fe8b54ef92f",
   "metadata": {},
   "outputs": [
    {
     "data": {
      "text/plain": [
       "array([[1.0000000e+00, 0.0000000e+00],\n",
       "       [8.8817842e-16, 1.0000000e+00]])"
      ]
     },
     "execution_count": 7,
     "metadata": {},
     "output_type": "execute_result"
    }
   ],
   "source": [
    "A @ A_inv"
   ]
  },
  {
   "cell_type": "code",
   "execution_count": 8,
   "id": "dc6b1dc2-a4d0-4fc1-b676-90ca21f749b0",
   "metadata": {},
   "outputs": [
    {
     "data": {
      "text/plain": [
       "array([[1.00000000e+00, 0.00000000e+00],\n",
       "       [2.22044605e-16, 1.00000000e+00]])"
      ]
     },
     "execution_count": 8,
     "metadata": {},
     "output_type": "execute_result"
    }
   ],
   "source": [
    "A_inv @ A"
   ]
  },
  {
   "cell_type": "code",
   "execution_count": null,
   "id": "b522b845-89d7-4acf-810d-e2e1a347682a",
   "metadata": {},
   "outputs": [],
   "source": []
  },
  {
   "cell_type": "code",
   "execution_count": 9,
   "id": "67fafa72-f62d-44f3-a9a5-e6b67cd594c6",
   "metadata": {},
   "outputs": [],
   "source": [
    "I = np.diag([1, 1])"
   ]
  },
  {
   "cell_type": "code",
   "execution_count": 10,
   "id": "e1d20964-fd0c-4910-947d-0e9472d546f2",
   "metadata": {},
   "outputs": [
    {
     "data": {
      "text/plain": [
       "True"
      ]
     },
     "execution_count": 10,
     "metadata": {},
     "output_type": "execute_result"
    }
   ],
   "source": [
    "np.allclose(A_inv @ A, I)"
   ]
  },
  {
   "cell_type": "code",
   "execution_count": 11,
   "id": "d40020c5-0e32-487d-9a9c-b33413a107e2",
   "metadata": {},
   "outputs": [
    {
     "data": {
      "text/plain": [
       "True"
      ]
     },
     "execution_count": 11,
     "metadata": {},
     "output_type": "execute_result"
    }
   ],
   "source": [
    "np.allclose(A @ A_inv , I)"
   ]
  },
  {
   "cell_type": "markdown",
   "id": "16c6d5f4-d0af-4c38-b9d7-fb871926d00b",
   "metadata": {},
   "source": [
    "<br>\n",
    "\n",
    "## 方程组求解"
   ]
  },
  {
   "cell_type": "code",
   "execution_count": 12,
   "id": "baec4351-4101-44d3-93cb-cae2838c7ff2",
   "metadata": {},
   "outputs": [
    {
     "data": {
      "text/plain": [
       "array([[1, 2],\n",
       "       [3, 5]])"
      ]
     },
     "metadata": {},
     "output_type": "display_data"
    },
    {
     "data": {
      "text/plain": [
       "array([1, 2])"
      ]
     },
     "metadata": {},
     "output_type": "display_data"
    }
   ],
   "source": [
    "A = np.array([[1, 2], [3, 5]])\n",
    "b = np.array([1, 2])\n",
    "\n",
    "display(A); display(b)"
   ]
  },
  {
   "cell_type": "code",
   "execution_count": 13,
   "id": "86c2d83c-04b7-44b3-bc24-3d80570c58b6",
   "metadata": {},
   "outputs": [
    {
     "data": {
      "text/plain": [
       "array([-1.,  1.])"
      ]
     },
     "execution_count": 13,
     "metadata": {},
     "output_type": "execute_result"
    }
   ],
   "source": [
    "x = np.linalg.solve(A, b)\n",
    "x"
   ]
  },
  {
   "cell_type": "code",
   "execution_count": 14,
   "id": "21f5caf0-505a-4cb7-8c1e-7792d9f5e796",
   "metadata": {},
   "outputs": [
    {
     "data": {
      "text/plain": [
       "array([-1.11022302e-16,  0.00000000e+00])"
      ]
     },
     "execution_count": 14,
     "metadata": {},
     "output_type": "execute_result"
    }
   ],
   "source": [
    "A @ x - b"
   ]
  },
  {
   "cell_type": "code",
   "execution_count": 15,
   "id": "8c317906-855a-4d2e-a053-9d601a0768cd",
   "metadata": {},
   "outputs": [
    {
     "data": {
      "text/plain": [
       "True"
      ]
     },
     "execution_count": 15,
     "metadata": {},
     "output_type": "execute_result"
    }
   ],
   "source": [
    "np.allclose(A @ x, b)"
   ]
  },
  {
   "cell_type": "code",
   "execution_count": null,
   "id": "ecc47692-362a-43fa-8fb1-f883100efe9c",
   "metadata": {},
   "outputs": [],
   "source": []
  },
  {
   "cell_type": "code",
   "execution_count": 16,
   "id": "7242f87b-28b7-4492-9e7f-95b30c8f8d4e",
   "metadata": {},
   "outputs": [],
   "source": [
    "A = np.array([[1, 2], [3, 4]])\n",
    "I = np.diag([1, 1])"
   ]
  },
  {
   "cell_type": "code",
   "execution_count": 17,
   "id": "c60eb802-167f-4b58-a866-af536ec6fa08",
   "metadata": {},
   "outputs": [
    {
     "data": {
      "text/plain": [
       "array([[-2. ,  1. ],\n",
       "       [ 1.5, -0.5]])"
      ]
     },
     "execution_count": 17,
     "metadata": {},
     "output_type": "execute_result"
    }
   ],
   "source": [
    "A_inv = np.linalg.solve(A, I)\n",
    "A_inv"
   ]
  },
  {
   "cell_type": "code",
   "execution_count": 18,
   "id": "0c00623f-531d-4040-8211-9754cbb84602",
   "metadata": {},
   "outputs": [
    {
     "data": {
      "text/plain": [
       "array([[1.0000000e+00, 0.0000000e+00],\n",
       "       [8.8817842e-16, 1.0000000e+00]])"
      ]
     },
     "execution_count": 18,
     "metadata": {},
     "output_type": "execute_result"
    }
   ],
   "source": [
    "A @ A_inv"
   ]
  },
  {
   "cell_type": "code",
   "execution_count": 19,
   "id": "8f9eb8ac-42bf-4839-83bc-db636d38a89f",
   "metadata": {},
   "outputs": [
    {
     "data": {
      "text/plain": [
       "True"
      ]
     },
     "execution_count": 19,
     "metadata": {},
     "output_type": "execute_result"
    }
   ],
   "source": [
    "np.allclose(A @ A_inv, I)"
   ]
  },
  {
   "cell_type": "markdown",
   "id": "340c1770-7f3f-4b9e-9174-80afbc93abba",
   "metadata": {},
   "source": [
    "<br>\n",
    "\n",
    "### 3.3.5.  特征值（eigen values）、特征向量(eigen vectors)"
   ]
  },
  {
   "cell_type": "markdown",
   "id": "3fea6034-3205-47f9-b24c-7568c388e04d",
   "metadata": {},
   "source": [
    "$$\n",
    "A x = \\lambda x\n",
    "$$"
   ]
  },
  {
   "cell_type": "code",
   "execution_count": 20,
   "id": "1a4da8a1-ab1f-4b81-958f-33457a401bda",
   "metadata": {},
   "outputs": [
    {
     "data": {
      "text/plain": [
       "array([[1, 2, 3],\n",
       "       [4, 5, 6],\n",
       "       [7, 8, 9]])"
      ]
     },
     "execution_count": 20,
     "metadata": {},
     "output_type": "execute_result"
    }
   ],
   "source": [
    "A = np.array([[1,2,3], [4,5,6], [7,8,9]])\n",
    "A"
   ]
  },
  {
   "cell_type": "markdown",
   "id": "f0a8f86a-1011-46f3-b383-505f0aa5d91c",
   "metadata": {},
   "source": [
    "$$\n",
    "\\begin{cases}\n",
    "A  x_1 &= \\lambda_1 \\cdot x_1   \\\\ \n",
    "A  x_2 &= \\lambda_2 \\cdot x_2 \\\\\n",
    "A  x_3 &= \\lambda_3 \\cdot x_3\n",
    "\\end{cases}\n",
    "$$\n"
   ]
  },
  {
   "cell_type": "code",
   "execution_count": 21,
   "id": "2543671c-1785-4ee7-91a9-19367a92ab97",
   "metadata": {},
   "outputs": [
    {
     "name": "stdout",
     "output_type": "stream",
     "text": [
      "特征值的向量 w:\n",
      "[ 1.61168440e+01 -1.11684397e+00 -1.30367773e-15]\n",
      "\n",
      "特征向量矩阵 x:\n",
      "[[-0.23197069 -0.78583024  0.40824829]\n",
      " [-0.52532209 -0.08675134 -0.81649658]\n",
      " [-0.8186735   0.61232756  0.40824829]]\n"
     ]
    }
   ],
   "source": [
    "w, x = np.linalg.eig(A)\n",
    "\n",
    "print(f\"特征值的向量 w:\\n{w}\")\n",
    "print(f\"\\n特征向量矩阵 x:\\n{x}\")"
   ]
  },
  {
   "cell_type": "code",
   "execution_count": null,
   "id": "d5f1dba7-1ad8-40c6-adcb-1cc40c4bd2c9",
   "metadata": {},
   "outputs": [],
   "source": []
  },
  {
   "cell_type": "code",
   "execution_count": null,
   "id": "ef5c92c7-aa1d-4437-8271-aef1b1cbb8be",
   "metadata": {},
   "outputs": [],
   "source": []
  },
  {
   "cell_type": "markdown",
   "id": "b0a05147-5bb6-46fe-83d1-8d58ad1b5fe1",
   "metadata": {},
   "source": [
    "特征值从大到小排列，第$i$个特征值 `w[i]` 对应的特征向量是 `v[:, i]`"
   ]
  },
  {
   "cell_type": "markdown",
   "id": "0ed0dc26-fd38-433a-86f4-33e4d85b48d2",
   "metadata": {},
   "source": [
    "$$\n",
    "X = \\begin{pmatrix}\n",
    "    \\vert & \\vert & \\vert \\\\\n",
    "    x_1   & x_2   & x_3 \\\\\n",
    "    \\vert & \\vert & \\vert \\\\\n",
    "\\end{pmatrix}\n",
    "$$"
   ]
  },
  {
   "cell_type": "markdown",
   "id": "f7511dbf-437f-4a81-9d85-d6d9389d13d7",
   "metadata": {},
   "source": [
    "$$\n",
    "A X = X \\Lambda = \n",
    "\\begin{pmatrix}\n",
    "    \\vert & \\vert & \\vert \\\\\n",
    "    x_1   & x_2   & x_3 \\\\\n",
    "    \\vert & \\vert & \\vert \\\\\n",
    "\\end{pmatrix}\n",
    "\\begin{pmatrix}\n",
    "\\lambda_1 & & \\\\\n",
    "& \\lambda_2 & \\\\\n",
    "& & \\lambda_3 \\\\\n",
    "\\end{pmatrix}\n",
    "$$"
   ]
  },
  {
   "cell_type": "code",
   "execution_count": null,
   "id": "d421181e-b6bd-4717-bcaf-7ff66a60b9e6",
   "metadata": {},
   "outputs": [],
   "source": []
  },
  {
   "cell_type": "code",
   "execution_count": 22,
   "id": "fba01e3c-fd0b-4b8a-94af-81488506a927",
   "metadata": {},
   "outputs": [
    {
     "data": {
      "text/plain": [
       "array([ 5.32907052e-15, -1.77635684e-15, -1.77635684e-15])"
      ]
     },
     "execution_count": 22,
     "metadata": {},
     "output_type": "execute_result"
    }
   ],
   "source": [
    "A @ x[:, 0] - w[0] * x[:, 0]"
   ]
  },
  {
   "cell_type": "code",
   "execution_count": null,
   "id": "ea3af494-988c-4a5b-add7-8636c1bc6f9d",
   "metadata": {},
   "outputs": [],
   "source": []
  },
  {
   "cell_type": "code",
   "execution_count": 23,
   "id": "6e7dd9b5-ca34-4b6f-9d60-e366122e21cd",
   "metadata": {},
   "outputs": [
    {
     "data": {
      "text/plain": [
       "[True, True, True]"
      ]
     },
     "execution_count": 23,
     "metadata": {},
     "output_type": "execute_result"
    }
   ],
   "source": [
    "[np.allclose(A @ x[:, i],  w[i] * x[:, i]) for i in range(3)]"
   ]
  },
  {
   "cell_type": "code",
   "execution_count": null,
   "id": "13cb91a3-eea7-45b1-a564-ffc1444231f2",
   "metadata": {},
   "outputs": [],
   "source": []
  },
  {
   "cell_type": "code",
   "execution_count": null,
   "id": "d4835401-6dac-40de-b27d-d6e155315f5d",
   "metadata": {},
   "outputs": [],
   "source": []
  },
  {
   "cell_type": "markdown",
   "id": "4fd0cf99-b954-4887-832c-c5ca5387ee94",
   "metadata": {},
   "source": [
    "$$\n",
    "A X =  X \\Lambda\n",
    "$$"
   ]
  },
  {
   "cell_type": "code",
   "execution_count": 24,
   "id": "77685753-1a1f-46d9-a1a9-aadaccf31248",
   "metadata": {},
   "outputs": [
    {
     "data": {
      "text/plain": [
       "array([[ 5.32907052e-15, -3.33066907e-16, -3.55954217e-16],\n",
       "       [-1.77635684e-15, -9.57567359e-16, -1.95262683e-15],\n",
       "       [-1.77635684e-15, -2.77555756e-15,  5.32224203e-16]])"
      ]
     },
     "execution_count": 24,
     "metadata": {},
     "output_type": "execute_result"
    }
   ],
   "source": [
    "A @ x - x @ np.diag(w)"
   ]
  },
  {
   "cell_type": "code",
   "execution_count": null,
   "id": "c4a70efd-57eb-4733-bd95-540eec890400",
   "metadata": {},
   "outputs": [],
   "source": []
  },
  {
   "cell_type": "code",
   "execution_count": 25,
   "id": "40d55937-0006-4c1b-8d1c-e3db5a2849b9",
   "metadata": {},
   "outputs": [
    {
     "data": {
      "text/plain": [
       "array([[ 5.32907052e-15, -3.33066907e-16, -3.55954217e-16],\n",
       "       [-1.77635684e-15, -9.57567359e-16, -1.95262683e-15],\n",
       "       [-1.77635684e-15, -2.77555756e-15,  5.32224203e-16]])"
      ]
     },
     "execution_count": 25,
     "metadata": {},
     "output_type": "execute_result"
    }
   ],
   "source": [
    "A @ x - w * x"
   ]
  },
  {
   "cell_type": "markdown",
   "id": "d377df6c-c160-4c8c-b1d6-f5519f82d0c8",
   "metadata": {},
   "source": [
    "注意：上面算式中的`@`和`*`运算含义区别"
   ]
  },
  {
   "cell_type": "code",
   "execution_count": null,
   "id": "f0420551-fc75-4a8c-9625-3d7501f08734",
   "metadata": {},
   "outputs": [],
   "source": []
  },
  {
   "cell_type": "code",
   "execution_count": null,
   "id": "4c38042c-57e6-4183-ba9f-a10b1534974a",
   "metadata": {},
   "outputs": [],
   "source": []
  },
  {
   "cell_type": "markdown",
   "id": "32f22f14-bced-4477-8564-8d085d72ca49",
   "metadata": {},
   "source": [
    "$$\n",
    "A X =  X \\Lambda\n",
    "$$\n",
    "\n",
    "A可以分解成特征值和特征向量\n",
    "\n",
    "$$\n",
    "A = X \\Lambda X^{-1}\n",
    "$$"
   ]
  },
  {
   "cell_type": "code",
   "execution_count": 26,
   "id": "a87a6132-d612-4cba-bc1b-704df82bf5ba",
   "metadata": {},
   "outputs": [
    {
     "data": {
      "text/plain": [
       "array([[1, 2, 3],\n",
       "       [4, 5, 6],\n",
       "       [7, 8, 9]])"
      ]
     },
     "execution_count": 26,
     "metadata": {},
     "output_type": "execute_result"
    }
   ],
   "source": [
    "A = np.array([[1,2,3], [4,5,6], [7,8,9]])\n",
    "A"
   ]
  },
  {
   "cell_type": "code",
   "execution_count": 27,
   "id": "61d792c6-3294-48bb-8a39-962ff8b79163",
   "metadata": {},
   "outputs": [],
   "source": [
    "w, x = np.linalg.eig(A)"
   ]
  },
  {
   "cell_type": "code",
   "execution_count": 28,
   "id": "91b63ffd-b155-407f-8dde-53052f0597f5",
   "metadata": {},
   "outputs": [
    {
     "data": {
      "text/plain": [
       "array([[1., 2., 3.],\n",
       "       [4., 5., 6.],\n",
       "       [7., 8., 9.]])"
      ]
     },
     "execution_count": 28,
     "metadata": {},
     "output_type": "execute_result"
    }
   ],
   "source": [
    "A1 = x @ np.diag(w) @ np.linalg.inv(x)\n",
    "A1"
   ]
  },
  {
   "cell_type": "code",
   "execution_count": 29,
   "id": "ded461fe-f762-4cb2-82ee-701c493f1ae7",
   "metadata": {},
   "outputs": [
    {
     "data": {
      "text/plain": [
       "array([[ 2.44249065e-15,  2.22044605e-15,  3.99680289e-15],\n",
       "       [-8.88178420e-16, -2.66453526e-15,  0.00000000e+00],\n",
       "       [-1.77635684e-15, -1.77635684e-15,  0.00000000e+00]])"
      ]
     },
     "execution_count": 29,
     "metadata": {},
     "output_type": "execute_result"
    }
   ],
   "source": [
    "A1 - A"
   ]
  },
  {
   "cell_type": "code",
   "execution_count": null,
   "id": "9ae93861-926a-468c-aad1-b604e383bacb",
   "metadata": {},
   "outputs": [],
   "source": []
  },
  {
   "cell_type": "code",
   "execution_count": null,
   "id": "2d799659-0458-44cd-b4cf-0f4fb67da78b",
   "metadata": {},
   "outputs": [],
   "source": []
  },
  {
   "cell_type": "markdown",
   "id": "e32e08c1-1a10-49d2-9f85-9c258c4bfb11",
   "metadata": {},
   "source": [
    "观察到第三个特征 `-1.30367773e-15` 是一个非常小的值，说明对应的第三个特征向量的提供的“信息”作用不大\n",
    "\n",
    "尝试第三个特征向量，使用前两个重新构造矩阵"
   ]
  },
  {
   "cell_type": "code",
   "execution_count": 30,
   "id": "c913734c-0535-434d-a39b-2745b570c37b",
   "metadata": {},
   "outputs": [
    {
     "name": "stdout",
     "output_type": "stream",
     "text": [
      "前2个特征值对角阵: \n"
     ]
    },
    {
     "data": {
      "text/plain": [
       "array([[16.11684397,  0.        ],\n",
       "       [ 0.        , -1.11684397]])"
      ]
     },
     "metadata": {},
     "output_type": "display_data"
    },
    {
     "name": "stdout",
     "output_type": "stream",
     "text": [
      "\n",
      "前2个特征向量: \n"
     ]
    },
    {
     "data": {
      "text/plain": [
       "array([[-0.23197069, -0.78583024],\n",
       "       [-0.52532209, -0.08675134],\n",
       "       [-0.8186735 ,  0.61232756]])"
      ]
     },
     "metadata": {},
     "output_type": "display_data"
    }
   ],
   "source": [
    "print(\"前2个特征值对角阵: \")\n",
    "display(np.diag(w[0:2]))\n",
    "\n",
    "print(\"\\n前2个特征向量: \")\n",
    "display(x[:,0:2])"
   ]
  },
  {
   "cell_type": "code",
   "execution_count": null,
   "id": "6e3b331d-6604-403f-8aac-56756fbde94d",
   "metadata": {},
   "outputs": [],
   "source": []
  },
  {
   "cell_type": "markdown",
   "id": "a1aec51a-7293-4da7-b1b5-48aa2692e518",
   "metadata": {},
   "source": [
    "基于前2个特征值和特征向量重新构造（还原）出矩阵 `A`"
   ]
  },
  {
   "cell_type": "code",
   "execution_count": 31,
   "id": "a8cd4343-2552-4f59-9b1b-02dbe2db5c2b",
   "metadata": {},
   "outputs": [
    {
     "data": {
      "text/plain": [
       "array([[1., 2., 3.],\n",
       "       [4., 5., 6.],\n",
       "       [7., 8., 9.]])"
      ]
     },
     "execution_count": 31,
     "metadata": {},
     "output_type": "execute_result"
    }
   ],
   "source": [
    "A2 = x[:, 0:2] @ np.diag(w[0:2]) @ np.linalg.inv(x)[0:2]\n",
    "A2"
   ]
  },
  {
   "cell_type": "code",
   "execution_count": 32,
   "id": "b65f0c40-b7ee-4e7a-810e-aca3fa334faf",
   "metadata": {},
   "outputs": [
    {
     "data": {
      "text/plain": [
       "array([[ 2.66453526e-15,  1.77635684e-15,  3.99680289e-15],\n",
       "       [-1.33226763e-15, -1.77635684e-15,  0.00000000e+00],\n",
       "       [-1.77635684e-15, -1.77635684e-15,  0.00000000e+00]])"
      ]
     },
     "execution_count": 32,
     "metadata": {},
     "output_type": "execute_result"
    }
   ],
   "source": [
    "A2 - A"
   ]
  },
  {
   "cell_type": "markdown",
   "id": "c0b8a13f-c8eb-4416-9a31-527dc88adb3d",
   "metadata": {},
   "source": [
    "<br>\n",
    "\n",
    "#### 对角阵的特征值"
   ]
  },
  {
   "cell_type": "code",
   "execution_count": 33,
   "id": "deee38ca-0fc5-4d5b-9ef3-13333f494ee6",
   "metadata": {},
   "outputs": [
    {
     "data": {
      "text/plain": [
       "array([[1, 0, 0],\n",
       "       [0, 2, 0],\n",
       "       [0, 0, 3]])"
      ]
     },
     "execution_count": 33,
     "metadata": {},
     "output_type": "execute_result"
    }
   ],
   "source": [
    "A = np.diag([1, 2, 3])\n",
    "A"
   ]
  },
  {
   "cell_type": "code",
   "execution_count": 34,
   "id": "518e56ee-0d72-4abf-8a0e-014f4b730bed",
   "metadata": {},
   "outputs": [
    {
     "name": "stdout",
     "output_type": "stream",
     "text": [
      "w:\n",
      "[1. 2. 3.]\n",
      "\n",
      "x:\n",
      "[[1. 0. 0.]\n",
      " [0. 1. 0.]\n",
      " [0. 0. 1.]]\n"
     ]
    }
   ],
   "source": [
    "w, x = np.linalg.eig(A)\n",
    "\n",
    "print(f\"w:\\n{w}\")\n",
    "print(f\"\\nx:\\n{x}\")"
   ]
  }
 ],
 "metadata": {
  "kernelspec": {
   "display_name": "Python 3 (ipykernel)",
   "language": "python",
   "name": "python3"
  },
  "language_info": {
   "codemirror_mode": {
    "name": "ipython",
    "version": 3
   },
   "file_extension": ".py",
   "mimetype": "text/x-python",
   "name": "python",
   "nbconvert_exporter": "python",
   "pygments_lexer": "ipython3",
   "version": "3.12.5"
  }
 },
 "nbformat": 4,
 "nbformat_minor": 5
}
