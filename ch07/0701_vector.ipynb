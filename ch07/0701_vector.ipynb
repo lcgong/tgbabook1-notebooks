{
 "cells": [
  {
   "cell_type": "markdown",
   "id": "063ef699-f946-4f93-b6e7-f9f2768a4b7b",
   "metadata": {},
   "source": [
    "# 向量水果店\n"
   ]
  },
  {
   "cell_type": "markdown",
   "id": "c558f090-cdf5-4d2e-a570-f29c3891d967",
   "metadata": {},
   "source": [
    "## 1. 基于向量的表示方法\n",
    "\n"
   ]
  },
  {
   "cell_type": "code",
   "execution_count": 1,
   "id": "4f0c89af-abe2-4847-a1d0-6a0b92354b58",
   "metadata": {},
   "outputs": [],
   "source": [
    "import numpy as np"
   ]
  },
  {
   "cell_type": "markdown",
   "id": "b0c0b7bc-7441-4b8a-91ce-27b0b72bba8a",
   "metadata": {},
   "source": [
    "价格向量"
   ]
  },
  {
   "cell_type": "code",
   "execution_count": 2,
   "id": "0d0cbe9f-32b4-40a9-ae00-f26d0985d4cf",
   "metadata": {},
   "outputs": [
    {
     "data": {
      "text/plain": [
       "array([2, 3])"
      ]
     },
     "execution_count": 2,
     "metadata": {},
     "output_type": "execute_result"
    }
   ],
   "source": [
    "p = np.array([2, 3])\n",
    "p"
   ]
  },
  {
   "cell_type": "markdown",
   "id": "8f245b7b-6fad-41c9-bcbc-7369b98e2db2",
   "metadata": {},
   "source": [
    "<br>\n",
    "\n",
    "采购数量向量"
   ]
  },
  {
   "cell_type": "code",
   "execution_count": 3,
   "id": "f81e9358-dbd8-498d-bfb5-176d9d579eaf",
   "metadata": {},
   "outputs": [
    {
     "data": {
      "text/plain": [
       "array([70, 80])"
      ]
     },
     "execution_count": 3,
     "metadata": {},
     "output_type": "execute_result"
    }
   ],
   "source": [
    "a = np.array([70, 80])\n",
    "a"
   ]
  },
  {
   "cell_type": "code",
   "execution_count": 4,
   "id": "a8659c40-8f91-4cfb-9ada-9426b77c6e5e",
   "metadata": {},
   "outputs": [
    {
     "data": {
      "text/plain": [
       "380"
      ]
     },
     "execution_count": 4,
     "metadata": {},
     "output_type": "execute_result"
    }
   ],
   "source": [
    "p @ a"
   ]
  },
  {
   "cell_type": "code",
   "execution_count": 5,
   "id": "9891b6f7-6a4d-4759-8033-0092ce2336d0",
   "metadata": {},
   "outputs": [
    {
     "data": {
      "text/plain": [
       "array([140, 240])"
      ]
     },
     "execution_count": 5,
     "metadata": {},
     "output_type": "execute_result"
    }
   ],
   "source": [
    "p * a"
   ]
  },
  {
   "cell_type": "code",
   "execution_count": 6,
   "id": "8eb6cca3-3791-404c-b172-2d0559902cb5",
   "metadata": {},
   "outputs": [
    {
     "data": {
      "text/plain": [
       "380"
      ]
     },
     "execution_count": 6,
     "metadata": {},
     "output_type": "execute_result"
    }
   ],
   "source": [
    "(p * a).sum()"
   ]
  },
  {
   "cell_type": "markdown",
   "id": "d1f415bb-9fdb-455a-9c64-a5a445149f2c",
   "metadata": {},
   "source": [
    "## 2. 基于矩阵的表示方法\n",
    "\n",
    "如果客户这个订单是实际要分3个批次采购：\n",
    "* 第1个批次： 苹果20，香蕉40\n",
    "* 第2个批次： 苹果35，香蕉15\n",
    "* 第3个批次： 苹果15，香蕉25\n"
   ]
  },
  {
   "cell_type": "markdown",
   "id": "e299d7b7-ec1d-4636-b386-ae8c2b844bb9",
   "metadata": {},
   "source": [
    "<br>\n",
    "采购批次矩阵："
   ]
  },
  {
   "cell_type": "code",
   "execution_count": 7,
   "id": "0433a165-bee3-4741-b3b1-8acaf27bb9c6",
   "metadata": {},
   "outputs": [
    {
     "data": {
      "text/plain": [
       "array([[20, 40],\n",
       "       [35, 15],\n",
       "       [15, 25]])"
      ]
     },
     "execution_count": 7,
     "metadata": {},
     "output_type": "execute_result"
    }
   ],
   "source": [
    "A = np.array([[20, 40], [35, 15], [15, 25]]) \n",
    "A"
   ]
  },
  {
   "cell_type": "code",
   "execution_count": 8,
   "id": "c2612f9e-89e6-4445-a2f3-bf16d2166ab1",
   "metadata": {},
   "outputs": [
    {
     "data": {
      "text/plain": [
       "array([160, 115, 105])"
      ]
     },
     "execution_count": 8,
     "metadata": {},
     "output_type": "execute_result"
    }
   ],
   "source": [
    "A @ p"
   ]
  },
  {
   "cell_type": "code",
   "execution_count": 9,
   "id": "20dd6445-d915-479e-a433-4d24562bf9e4",
   "metadata": {},
   "outputs": [
    {
     "data": {
      "text/plain": [
       "array([160, 115, 105])"
      ]
     },
     "execution_count": 9,
     "metadata": {},
     "output_type": "execute_result"
    }
   ],
   "source": [
    "p @ A.T"
   ]
  },
  {
   "cell_type": "code",
   "execution_count": 10,
   "id": "b731d667-9e5a-4d07-bdda-f01e337fb3be",
   "metadata": {},
   "outputs": [
    {
     "data": {
      "text/plain": [
       "380"
      ]
     },
     "execution_count": 10,
     "metadata": {},
     "output_type": "execute_result"
    }
   ],
   "source": [
    "(A @ p).sum()"
   ]
  },
  {
   "cell_type": "code",
   "execution_count": 11,
   "id": "484b2bc7-e98a-49f3-a561-ff2af6b472e5",
   "metadata": {},
   "outputs": [
    {
     "data": {
      "text/plain": [
       "380"
      ]
     },
     "execution_count": 11,
     "metadata": {},
     "output_type": "execute_result"
    }
   ],
   "source": [
    "(p @ A.T).sum()"
   ]
  },
  {
   "cell_type": "markdown",
   "id": "601d24a4-3dd3-47c4-be07-269b7e98212c",
   "metadata": {},
   "source": [
    "## 价格方案\n",
    "\n",
    "在实际执行时，价格上是有两个等级折扣：\n",
    "* 第一等级$1\\%$的折扣\n",
    "* 第二等级$3\\%$的折扣。\n",
    "\n",
    "$$\n",
    "实际价格 = (1 - 折扣) \\cdot  价格 \n",
    "$$"
   ]
  },
  {
   "cell_type": "markdown",
   "id": "c4441a6c-336b-4edd-baaa-b5bb117ed8e2",
   "metadata": {},
   "source": [
    "三种折扣方案：不打折，打折$2\\%$，打折$3\\%$"
   ]
  },
  {
   "cell_type": "code",
   "execution_count": 20,
   "id": "6bfea334-f17e-4504-8ad2-d873a6efc37a",
   "metadata": {},
   "outputs": [
    {
     "data": {
      "text/plain": [
       "array([1.  , 0.98, 0.97])"
      ]
     },
     "execution_count": 20,
     "metadata": {},
     "output_type": "execute_result"
    }
   ],
   "source": [
    "d = 1 - np.array([0, 0.02, 0.03])\n",
    "d"
   ]
  },
  {
   "cell_type": "markdown",
   "id": "6a5b9054-434c-45e7-b426-33baf74e21ea",
   "metadata": {},
   "source": [
    "<br>\n",
    "\n",
    "三种折扣方案针对苹果和香蕉的折扣方案"
   ]
  },
  {
   "cell_type": "code",
   "execution_count": 21,
   "id": "54ee967c-9b01-4728-9547-a1fcdfd3e0c1",
   "metadata": {},
   "outputs": [
    {
     "data": {
      "text/plain": [
       "array([[2.  , 3.  ],\n",
       "       [1.96, 2.94],\n",
       "       [1.94, 2.91]])"
      ]
     },
     "execution_count": 21,
     "metadata": {},
     "output_type": "execute_result"
    }
   ],
   "source": [
    "P = np.outer(d, p)\n",
    "P"
   ]
  },
  {
   "cell_type": "code",
   "execution_count": null,
   "id": "4a50a579-73e9-4c15-9a17-65a829644204",
   "metadata": {},
   "outputs": [],
   "source": []
  },
  {
   "cell_type": "code",
   "execution_count": 23,
   "id": "fcbe75a0-1118-40d2-b739-b6875c95c80f",
   "metadata": {},
   "outputs": [
    {
     "data": {
      "text/plain": [
       "array([[2.  , 3.  ],\n",
       "       [1.96, 2.94],\n",
       "       [1.94, 2.91]])"
      ]
     },
     "execution_count": 23,
     "metadata": {},
     "output_type": "execute_result"
    }
   ],
   "source": [
    "d.reshape(-1,1) @  p.reshape(-1, 1).T"
   ]
  },
  {
   "cell_type": "markdown",
   "id": "133a77dc-c99c-48b0-b6e4-7784c491c8a8",
   "metadata": {},
   "source": [
    "<br>\n",
    "\n",
    "如果针对该订单3批采购，分别执行这个三个价格方案"
   ]
  },
  {
   "cell_type": "code",
   "execution_count": 15,
   "id": "5d705e79-b40d-4f20-bfeb-aee8c3cf6729",
   "metadata": {},
   "outputs": [
    {
     "data": {
      "text/plain": [
       "array([[160.  , 115.  , 105.  ],\n",
       "       [156.8 , 112.7 , 102.9 ],\n",
       "       [155.2 , 111.55, 101.85]])"
      ]
     },
     "execution_count": 15,
     "metadata": {},
     "output_type": "execute_result"
    }
   ],
   "source": [
    "X = P @ A.T\n",
    "X"
   ]
  },
  {
   "cell_type": "markdown",
   "id": "86f3c972-7cbe-4b22-8a81-232a37e0586f",
   "metadata": {},
   "source": [
    "<br>\n",
    "\n",
    "三个价格方案的总计收入："
   ]
  },
  {
   "cell_type": "code",
   "execution_count": 24,
   "id": "3369ff39-09eb-41b9-aa8c-fd848b3d1922",
   "metadata": {},
   "outputs": [
    {
     "data": {
      "text/plain": [
       "array([380. , 372.4, 368.6])"
      ]
     },
     "execution_count": 24,
     "metadata": {},
     "output_type": "execute_result"
    }
   ],
   "source": [
    "X.sum(axis=1)"
   ]
  },
  {
   "cell_type": "markdown",
   "id": "aa56f8ea-47ff-48df-afb2-548eb3e13055",
   "metadata": {},
   "source": [
    "<br>\n",
    "\n",
    "矩阵对角线是什么含义？（第4个价格方案）"
   ]
  },
  {
   "cell_type": "code",
   "execution_count": 25,
   "id": "c979e732-0bb5-495b-911d-22f3744059fd",
   "metadata": {},
   "outputs": [
    {
     "data": {
      "text/plain": [
       "array([160.  , 112.7 , 101.85])"
      ]
     },
     "execution_count": 25,
     "metadata": {},
     "output_type": "execute_result"
    }
   ],
   "source": [
    "np.diag(X)"
   ]
  },
  {
   "cell_type": "code",
   "execution_count": 26,
   "id": "2ae930c6-4193-401a-84e2-53ec87a46a37",
   "metadata": {},
   "outputs": [
    {
     "data": {
      "text/plain": [
       "374.54999999999995"
      ]
     },
     "execution_count": 26,
     "metadata": {},
     "output_type": "execute_result"
    }
   ],
   "source": [
    "np.diag(X).sum()"
   ]
  },
  {
   "cell_type": "code",
   "execution_count": null,
   "id": "3f7a7088-091a-41c7-9666-8e238579a369",
   "metadata": {},
   "outputs": [],
   "source": []
  },
  {
   "cell_type": "code",
   "execution_count": null,
   "id": "811c1f2d-a6d3-4ad5-9cdf-3eebc3cb230d",
   "metadata": {},
   "outputs": [],
   "source": []
  }
 ],
 "metadata": {
  "kernelspec": {
   "display_name": "Python 3 (ipykernel)",
   "language": "python",
   "name": "python3"
  },
  "language_info": {
   "codemirror_mode": {
    "name": "ipython",
    "version": 3
   },
   "file_extension": ".py",
   "mimetype": "text/x-python",
   "name": "python",
   "nbconvert_exporter": "python",
   "pygments_lexer": "ipython3",
   "version": "3.10.12"
  }
 },
 "nbformat": 4,
 "nbformat_minor": 5
}
